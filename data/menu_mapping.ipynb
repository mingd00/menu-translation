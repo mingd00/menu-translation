{
 "cells": [
  {
   "cell_type": "markdown",
   "metadata": {
    "id": "jZXM2ZEq0oOd"
   },
   "source": [
    "## 라벨 데이터의 클래스, 메뉴 정보를 매핑하여 새로운 json 파일 생성"
   ]
  },
  {
   "cell_type": "markdown",
   "metadata": {
    "id": "bVQAJGGE0i-u"
   },
   "source": [
    "### 0. 라이브러리 설치"
   ]
  },
  {
   "cell_type": "code",
   "execution_count": 1,
   "metadata": {
    "id": "TRe497E0z20x"
   },
   "outputs": [],
   "source": [
    "import pandas as pd\n",
    "import numpy as np\n",
    "import os\n",
    "import zipfile\n",
    "import glob\n",
    "import shutil\n",
    "import json"
   ]
  },
  {
   "cell_type": "markdown",
   "metadata": {
    "id": "sYMt8Nzr05B7"
   },
   "source": [
    "### 1. 경로 설정"
   ]
  },
  {
   "cell_type": "markdown",
   "metadata": {
    "id": "sgxqHxLB0h6a"
   },
   "source": [
    "### 2. 데이터 불러오기"
   ]
  },
  {
   "cell_type": "code",
   "execution_count": 20,
   "metadata": {
    "colab": {
     "base_uri": "https://localhost:8080/",
     "height": 35
    },
    "id": "QEDHus4W0_1U",
    "outputId": "3d510716-9707-4f83-808d-b147bfb364cc"
   },
   "outputs": [
    {
     "data": {
      "text/plain": [
       "'./label_data.zip'"
      ]
     },
     "execution_count": 20,
     "metadata": {},
     "output_type": "execute_result"
    }
   ],
   "source": [
    "path = './'\n",
    "data = os.path.join(path + 'label_data.zip')\n",
    "data"
   ]
  },
  {
   "cell_type": "markdown",
   "metadata": {
    "id": "EVLF8dFg2jSy"
   },
   "source": [
    "### 3. json 파일에서 필요한 정보를 추출하여 새로운 파일에 저장"
   ]
  },
  {
   "cell_type": "markdown",
   "metadata": {
    "id": "HmqttiLj_5LZ"
   },
   "source": [
    "* 새로운 파일, 변수 선언"
   ]
  },
  {
   "cell_type": "code",
   "execution_count": 24,
   "metadata": {
    "id": "wViIhuYb3gq7"
   },
   "outputs": [],
   "source": [
    "# 새로운 json 파일 생성\n",
    "with open('menu_info.json', 'w', encoding='utf-8') as f:\n",
    "  json.dump({}, f, indent=4)\n",
    "\n",
    "# 메뉴 정보를 저장할 리스트, 현재까지 매핑된 메뉴명을 저장할 튜플과와 max_class_id 변수\n",
    "menu_info = []\n",
    "visited_data = set()\n",
    "max_class_id = -1\n",
    "\n",
    "# 중복된 메뉴 개수(그냥 궁금해서)\n",
    "overlapping = 0"
   ]
  },
  {
   "cell_type": "markdown",
   "metadata": {
    "id": "0Rre9QBw_-bn"
   },
   "source": [
    "* 정보 추출 후 타겟 json 파일로 옮기는 함수"
   ]
  },
  {
   "cell_type": "code",
   "execution_count": 29,
   "metadata": {
    "id": "IQrv0f-a2t2k"
   },
   "outputs": [],
   "source": [
    "def change_json(input_file):\n",
    "  global menu_info, visited_data, max_class_id, overlapping\n",
    "\n",
    "  # 입력 파일 읽기\n",
    "  data = json.load(input_file)\n",
    "\n",
    "  for annotation in data.get(\"annotations\", []):\n",
    "    menu_in = annotation.get(\"menu_information\", {})\n",
    "    menu_name_ko = menu_in.get(\"ko\")\n",
    "\n",
    "    # 메뉴 이름 중복 확인\n",
    "    if menu_name_ko in visited_data:\n",
    "      overlapping += 1\n",
    "      continue # 존재하면 넘어감\n",
    "\n",
    "    # 새 항목 생성 후 추가\n",
    "    new_entry = {\n",
    "        \"class\": max_class_id + 1,\n",
    "        \"ko\": menu_in.get(\"ko\"),\n",
    "        \"en.ROMAN\": menu_in.get(\"en.ROMAN\"),\n",
    "        \"en\": menu_in.get(\"en\"),\n",
    "        \"ja\": menu_in.get(\"ja\"),\n",
    "        \"zh_CN\": menu_in.get(\"zh_CN\"),\n",
    "        \"zh_TW\": menu_in.get(\"zh_TW\")\n",
    "    }\n",
    "\n",
    "    menu_info.append(new_entry)\n",
    "    max_class_id += 1\n",
    "    visited_data.add(menu_name_ko)"
   ]
  },
  {
   "cell_type": "markdown",
   "metadata": {
    "id": "L7pHslaiADxm"
   },
   "source": [
    "* 압출 파일 돌며 모든 json 파일 변환하는 함수"
   ]
  },
  {
   "cell_type": "code",
   "execution_count": 32,
   "metadata": {
    "id": "IQIkLvfIANoL"
   },
   "outputs": [],
   "source": [
    "# zip 파일 풀어서 파일 옮기기\n",
    "def move_json(target_folder, tmp_folder):\n",
    "  for target in target_folder:\n",
    "    zip_ref.extract(target, tmp_folder) # zip 파일을 임시 폴더로 추출\n",
    "    extracted_zip_path = os.path.join(tmp_folder, target) # 추출된 zip 파일 경로\n",
    "\n",
    "    # 내부 zip 파일 열기\n",
    "    with zipfile.ZipFile(extracted_zip_path, 'r') as inner_zip:\n",
    "      # 추출된 파일 변환\n",
    "      for json_file in inner_zip.namelist():\n",
    "        if json_file.endswith('.json'):\n",
    "          input_file = inner_zip.open(json_file)\n",
    "          change_json(input_file)\n",
    "      print(f'{target} 추출 완료, cnt: {len(menu_info)}, overlap: {overlapping}')"
   ]
  },
  {
   "cell_type": "markdown",
   "metadata": {
    "id": "Uzd5gqnTrWja"
   },
   "source": [
    "* train, valid 데이터 각각 처리"
   ]
  },
  {
   "cell_type": "code",
   "execution_count": 35,
   "metadata": {
    "id": "DIJXultjkG5G"
   },
   "outputs": [
    {
     "name": "stdout",
     "output_type": "stream",
     "text": [
      "Train labels: ['labels/train/TL_01._서울.zip', 'labels/train/TL_02._부산.zip', 'labels/train/TL_03._대구.zip', 'labels/train/TL_04._인천.zip', 'labels/train/TL_05._광주.zip', 'labels/train/TL_06._대전.zip', 'labels/train/TL_07._울산.zip', 'labels/train/TL_08._경기.zip', 'labels/train/TL_09._강원.zip', 'labels/train/TL_10._충청.zip', 'labels/train/TL_11._전라.zip', 'labels/train/TL_12._경상.zip', 'labels/train/TL_13._제주.zip'], Valid labels: ['labels/val/VL_01._서울.zip', 'labels/val/VL_02._부산.zip', 'labels/val/VL_03._대구.zip', 'labels/val/VL_04._인천.zip', 'labels/val/VL_05._광주.zip', 'labels/val/VL_06._대전.zip', 'labels/val/VL_07._울산.zip', 'labels/val/VL_08._경기.zip', 'labels/val/VL_09._강원.zip', 'labels/val/VL_10._충청.zip', 'labels/val/VL_11._전라.zip', 'labels/val/VL_12._경상.zip', 'labels/val/VL_13._제주.zip']\n",
      "labels/train/TL_01._서울.zip 추출 완료, cnt: 71808, overlap: 210821\n",
      "labels/train/TL_02._부산.zip 추출 완료, cnt: 88708, overlap: 295699\n",
      "labels/train/TL_03._대구.zip 추출 완료, cnt: 100748, overlap: 366826\n",
      "labels/train/TL_04._인천.zip 추출 완료, cnt: 112353, overlap: 434972\n",
      "labels/train/TL_05._광주.zip 추출 완료, cnt: 117220, overlap: 467809\n",
      "labels/train/TL_06._대전.zip 추출 완료, cnt: 123368, overlap: 516740\n",
      "labels/train/TL_07._울산.zip 추출 완료, cnt: 127509, overlap: 548775\n",
      "labels/train/TL_08._경기.zip 추출 완료, cnt: 150347, overlap: 705142\n",
      "labels/train/TL_09._강원.zip 추출 완료, cnt: 156158, overlap: 748516\n",
      "labels/train/TL_10._충청.zip 추출 완료, cnt: 161810, overlap: 795093\n",
      "labels/train/TL_11._전라.zip 추출 완료, cnt: 167180, overlap: 844970\n",
      "labels/train/TL_12._경상.zip 추출 완료, cnt: 173019, overlap: 893721\n",
      "labels/train/TL_13._제주.zip 추출 완료, cnt: 176856, overlap: 916113\n",
      "labels/val/VL_01._서울.zip 추출 완료, cnt: 181318, overlap: 947834\n",
      "labels/val/VL_02._부산.zip 추출 완료, cnt: 182758, overlap: 959154\n",
      "labels/val/VL_03._대구.zip 추출 완료, cnt: 183890, overlap: 968251\n",
      "labels/val/VL_04._인천.zip 추출 완료, cnt: 184884, overlap: 976572\n",
      "labels/val/VL_05._광주.zip 추출 완료, cnt: 185412, overlap: 980631\n",
      "labels/val/VL_06._대전.zip 추출 완료, cnt: 185963, overlap: 986643\n",
      "labels/val/VL_07._울산.zip 추출 완료, cnt: 186393, overlap: 990665\n",
      "labels/val/VL_08._경기.zip 추출 완료, cnt: 188767, overlap: 1010273\n",
      "labels/val/VL_09._강원.zip 추출 완료, cnt: 189361, overlap: 1015876\n",
      "labels/val/VL_10._충청.zip 추출 완료, cnt: 189934, overlap: 1021946\n",
      "labels/val/VL_11._전라.zip 추출 완료, cnt: 190510, overlap: 1028446\n",
      "labels/val/VL_12._경상.zip 추출 완료, cnt: 191186, overlap: 1034220\n",
      "labels/val/VL_13._제주.zip 추출 완료, cnt: 191563, overlap: 1036919\n"
     ]
    }
   ],
   "source": [
    "# 임시 폴더 (압축 해제용)\n",
    "tmp_folder = '/temp'\n",
    "os.makedirs(tmp_folder, exist_ok=True)\n",
    "\n",
    "# 압축 파일 열기\n",
    "with zipfile.ZipFile(data, 'r') as zip_ref:\n",
    "      # 이미지 파일 선택\n",
    "      train_image = [f for f in zip_ref.namelist() if 'labels/train/' in f and f.endswith('.zip')]\n",
    "      valid_image = [f for f in zip_ref.namelist() if 'labels/val/' in f and f.endswith('.zip')]\n",
    "    \n",
    "      # 'train', 'valid' 라벨 파일들 출력\n",
    "      print(f\"Train labels: {train_image}, Valid labels: {valid_image}\")\n",
    "        \n",
    "      move_json(train_image, tmp_folder)\n",
    "      move_json(valid_image, tmp_folder)\n",
    "    \n",
    "# 결과를 출력 파일로 저장\n",
    "with open(\"menu_info.json\", \"w\", encoding='utf-8') as f:\n",
    "  json.dump(menu_info, f, indent=4, ensure_ascii=False)"
   ]
  },
  {
   "cell_type": "code",
   "execution_count": null,
   "metadata": {},
   "outputs": [],
   "source": []
  }
 ],
 "metadata": {
  "colab": {
   "provenance": []
  },
  "kernelspec": {
   "display_name": "Python 3 (ipykernel)",
   "language": "python",
   "name": "python3"
  },
  "language_info": {
   "codemirror_mode": {
    "name": "ipython",
    "version": 3
   },
   "file_extension": ".py",
   "mimetype": "text/x-python",
   "name": "python",
   "nbconvert_exporter": "python",
   "pygments_lexer": "ipython3",
   "version": "3.12.4"
  }
 },
 "nbformat": 4,
 "nbformat_minor": 4
}
