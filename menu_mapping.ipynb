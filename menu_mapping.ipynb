{
  "nbformat": 4,
  "nbformat_minor": 0,
  "metadata": {
    "colab": {
      "provenance": [],
      "authorship_tag": "ABX9TyOGnEbrjjF7zTE63Inf3Jke",
      "include_colab_link": true
    },
    "kernelspec": {
      "name": "python3",
      "display_name": "Python 3"
    },
    "language_info": {
      "name": "python"
    }
  },
  "cells": [
    {
      "cell_type": "markdown",
      "metadata": {
        "id": "view-in-github",
        "colab_type": "text"
      },
      "source": [
        "<a href=\"https://colab.research.google.com/github/mingd00/menu-translation/blob/main/menu_mapping.ipynb\" target=\"_parent\"><img src=\"https://colab.research.google.com/assets/colab-badge.svg\" alt=\"Open In Colab\"/></a>"
      ]
    },
    {
      "cell_type": "markdown",
      "source": [
        "## 라벨 데이터의 클래스, 메뉴 정보를 매핑하여 새로운 json 파일 생성"
      ],
      "metadata": {
        "id": "jZXM2ZEq0oOd"
      }
    },
    {
      "cell_type": "markdown",
      "source": [
        "### 0. 라이브러리 설치"
      ],
      "metadata": {
        "id": "bVQAJGGE0i-u"
      }
    },
    {
      "cell_type": "code",
      "execution_count": null,
      "metadata": {
        "id": "TRe497E0z20x"
      },
      "outputs": [],
      "source": [
        "import pandas as pd\n",
        "import numpy as np\n",
        "import os\n",
        "import zipfile\n",
        "import glob\n",
        "import shutil\n",
        "import json"
      ]
    },
    {
      "cell_type": "markdown",
      "source": [
        "### 1. 경로 설정"
      ],
      "metadata": {
        "id": "sYMt8Nzr05B7"
      }
    },
    {
      "cell_type": "code",
      "source": [
        "from google.colab import drive\n",
        "drive.mount('/content/drive')"
      ],
      "metadata": {
        "colab": {
          "base_uri": "https://localhost:8080/"
        },
        "id": "-L-qvxm20ezW",
        "outputId": "ace21815-0349-4dde-bd01-15ec4577a489"
      },
      "execution_count": null,
      "outputs": [
        {
          "output_type": "stream",
          "name": "stdout",
          "text": [
            "Mounted at /content/drive\n"
          ]
        }
      ]
    },
    {
      "cell_type": "code",
      "source": [
        "path = '/content/drive/MyDrive/menu_project'"
      ],
      "metadata": {
        "id": "k2MezWuN0fDp"
      },
      "execution_count": null,
      "outputs": []
    },
    {
      "cell_type": "markdown",
      "source": [
        "### 2. 데이터 불러오기"
      ],
      "metadata": {
        "id": "sgxqHxLB0h6a"
      }
    },
    {
      "cell_type": "code",
      "source": [
        "data = os.path.join(path + '/data/meta_data.zip')\n",
        "data"
      ],
      "metadata": {
        "colab": {
          "base_uri": "https://localhost:8080/",
          "height": 35
        },
        "id": "QEDHus4W0_1U",
        "outputId": "7df07eac-abcf-4065-f688-1e975f76ab3c"
      },
      "execution_count": null,
      "outputs": [
        {
          "output_type": "execute_result",
          "data": {
            "text/plain": [
              "'/content/drive/MyDrive/menu_project/data/meta_data.zip'"
            ],
            "application/vnd.google.colaboratory.intrinsic+json": {
              "type": "string"
            }
          },
          "metadata": {},
          "execution_count": 4
        }
      ]
    },
    {
      "cell_type": "markdown",
      "source": [
        "### 3. json 파일에서 필요한 정보를 추출하여 새로운 파일에 저장"
      ],
      "metadata": {
        "id": "EVLF8dFg2jSy"
      }
    },
    {
      "cell_type": "markdown",
      "source": [
        "* 새로운 파일, 변수 선언"
      ],
      "metadata": {
        "id": "HmqttiLj_5LZ"
      }
    },
    {
      "cell_type": "code",
      "source": [
        "# 새로운 json 파일 생성\n",
        "with open('menu_info.json', 'w') as f:\n",
        "  json.dump({}, f, indent=4)\n",
        "\n",
        "# 현재까지 매핑된 메뉴명을 저장할 리스트와 max_class_id 변수\n",
        "output_data = []\n",
        "max_class_id = -1"
      ],
      "metadata": {
        "id": "wViIhuYb3gq7"
      },
      "execution_count": null,
      "outputs": []
    },
    {
      "cell_type": "markdown",
      "source": [
        "* 정보 추출 후 타겟 json 파일로 옮기는 함수"
      ],
      "metadata": {
        "id": "0Rre9QBw_-bn"
      }
    },
    {
      "cell_type": "code",
      "source": [
        "def change_json(input_file, output_file):\n",
        "  global max_class_id, output_data\n",
        "\n",
        "  # 입력 파일 읽기\n",
        "  data = json.load(input_file)\n",
        "\n",
        "  for annotation in data.get(\"annotations\", []):\n",
        "    menu_info = annotation.get(\"menu_information\", {})\n",
        "    menu_name_ko = menu_info.get(\"ko\")\n",
        "\n",
        "    # 메뉴 이름 중복 확인\n",
        "    if any(entry[\"ko\"] == menu_name_ko for entry in output_data):\n",
        "      continue # 존재하면 넘어감\n",
        "\n",
        "    # 새 항목 생성 후 추가\n",
        "    new_entry = {\n",
        "        \"class\": max_class_id + 1,\n",
        "        \"ko\": menu_info.get(\"ko\"),\n",
        "        \"en.ROMAN\": menu_info.get(\"en.ROMAN\"),\n",
        "        \"en\": menu_info.get(\"en\"),\n",
        "        \"ja\": menu_info.get(\"ja\"),\n",
        "        \"price\": menu_info.get(\"price\")\n",
        "    }\n",
        "\n",
        "    output_data.append(new_entry)\n",
        "    max_class_id += 1\n",
        "\n",
        "    # 결과를 출력 파일로 저장\n",
        "    with open(output_file, \"w\") as f:\n",
        "      json.dump(output_data, f, indent=4, ensure_ascii=False)"
      ],
      "metadata": {
        "id": "IQrv0f-a2t2k"
      },
      "execution_count": null,
      "outputs": []
    },
    {
      "cell_type": "markdown",
      "source": [
        "* 압출 파일 돌며 모든 json 파일 변환하는 함수"
      ],
      "metadata": {
        "id": "L7pHslaiADxm"
      }
    },
    {
      "cell_type": "code",
      "source": [
        "# zip 파일 풀어서 파일 옮기기\n",
        "def move_json(target_folder, tmp_folder):\n",
        "  for target in target_folder:\n",
        "    zip_ref.extract(target, tmp_folder) # zip 파일을 임시 폴더로 추출\n",
        "    extracted_zip_path = os.path.join(tmp_folder, target) # 추출된 zip 파일 경로\n",
        "\n",
        "    # 내부 zip 파일 열기\n",
        "    with zipfile.ZipFile(extracted_zip_path, 'r') as inner_zip:\n",
        "      # 추출된 파일 변환\n",
        "      for json_file in inner_zip.namelist():\n",
        "        if json_file.endswith('.json'):\n",
        "          input_file = inner_zip.open(json_file)\n",
        "          change_json(input_file, \"menu_info.json\")\n",
        "      print(f'{target} 추출 완료')"
      ],
      "metadata": {
        "id": "IQIkLvfIANoL"
      },
      "execution_count": null,
      "outputs": []
    },
    {
      "cell_type": "markdown",
      "source": [
        "* train, valid 데이터 각각 처리"
      ],
      "metadata": {
        "id": "Uzd5gqnTrWja"
      }
    },
    {
      "cell_type": "code",
      "source": [
        "# 임시 폴더 (압축 해제용)\n",
        "tmp_folder = '/content/tmp'\n",
        "os.makedirs(tmp_folder, exist_ok=True)\n",
        "\n",
        "# 압축 파일 열기\n",
        "with zipfile.ZipFile(data, 'r') as zip_ref:\n",
        "  # 이미지 파일 선택\n",
        "  train_image = [f for f in zip_ref.namelist() if 'labels/train/' in f and f.endswith('.zip')]\n",
        "  valid_image = [f for f in zip_ref.namelist() if 'labels/val/' in f and f.endswith('.zip')]\n",
        "\n",
        "  # 'train', 'valid' 라벨 파일들 출력\n",
        "  print(f\"Train labels: {train_image}, Valid labels: {valid_image}\")\n",
        "\n",
        "  move_json(train_image, tmp_folder)\n",
        "  move_json(valid_image, tmp_folder)"
      ],
      "metadata": {
        "id": "t5Ry_SagANlr",
        "colab": {
          "base_uri": "https://localhost:8080/"
        },
        "outputId": "915d2a27-13cc-4093-8b02-c087321d7801"
      },
      "execution_count": null,
      "outputs": [
        {
          "output_type": "stream",
          "name": "stdout",
          "text": [
            "Train labels: ['labels/train/busan.zip', 'labels/train/seoul.zip'], Valid labels: ['labels/val/jeolla.zip']\n",
            "labels/train/busan.zip 추출 완료\n",
            "labels/train/seoul.zip 추출 완료\n",
            "labels/val/jeolla.zip 추출 완료\n"
          ]
        }
      ]
    },
    {
      "cell_type": "markdown",
      "source": [
        "## 4. 파일 다운로드"
      ],
      "metadata": {
        "id": "V-IuN2gcrhWr"
      }
    },
    {
      "cell_type": "code",
      "source": [
        "# JSON 파일을 Google Drive로 이동\n",
        "\n",
        "shutil.move(\"menu_info.json\", \"/content/drive/My Drive/menu_info.json\")\n",
        "print(\"JSON 파일을 Google Drive에 저장 완료!\")"
      ],
      "metadata": {
        "id": "fRSuRBYv1BXD",
        "colab": {
          "base_uri": "https://localhost:8080/"
        },
        "outputId": "aba6cc35-19d5-4a26-aa93-0a81ad8e8a3a"
      },
      "execution_count": null,
      "outputs": [
        {
          "output_type": "stream",
          "name": "stdout",
          "text": [
            "JSON 파일을 Google Drive에 저장 완료!\n"
          ]
        }
      ]
    },
    {
      "cell_type": "code",
      "source": [],
      "metadata": {
        "id": "DIJXultjkG5G"
      },
      "execution_count": null,
      "outputs": []
    }
  ]
}