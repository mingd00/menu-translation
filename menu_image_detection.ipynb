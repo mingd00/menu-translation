{
  "nbformat": 4,
  "nbformat_minor": 0,
  "metadata": {
    "colab": {
      "provenance": [],
      "gpuType": "T4",
      "authorship_tag": "ABX9TyOxvfqukfPawcXlTTJuQTvD",
      "include_colab_link": true
    },
    "kernelspec": {
      "name": "python3",
      "display_name": "Python 3"
    },
    "language_info": {
      "name": "python"
    },
    "accelerator": "GPU"
  },
  "cells": [
    {
      "cell_type": "markdown",
      "metadata": {
        "id": "view-in-github",
        "colab_type": "text"
      },
      "source": [
        "<a href=\"https://colab.research.google.com/github/mingd00/menu-translation/blob/main/menu_image_detection.ipynb\" target=\"_parent\"><img src=\"https://colab.research.google.com/assets/colab-badge.svg\" alt=\"Open In Colab\"/></a>"
      ]
    },
    {
      "cell_type": "markdown",
      "source": [
        "## 메뉴판 이미지에서 텍스트를 추출하는 모델 생성"
      ],
      "metadata": {
        "id": "ifQrdFCoNpSL"
      }
    },
    {
      "cell_type": "markdown",
      "source": [
        "## 0. 라이브러리 설치 및 불러오기"
      ],
      "metadata": {
        "id": "NgT0wy0Nes-w"
      }
    },
    {
      "cell_type": "code",
      "source": [
        "import pandas as pd\n",
        "import numpy as np\n",
        "import os\n",
        "import zipfile\n",
        "import glob\n",
        "import shutil\n",
        "import json\n",
        "from PIL import Image\n",
        "import yaml"
      ],
      "metadata": {
        "id": "mT9o-93sewzN"
      },
      "execution_count": null,
      "outputs": []
    },
    {
      "cell_type": "code",
      "source": [
        "!pip install ultralytics\n",
        "!pip install -U albumentations"
      ],
      "metadata": {
        "colab": {
          "base_uri": "https://localhost:8080/"
        },
        "id": "HPEQtHQm2Ypl",
        "outputId": "dc4a5fd3-bb81-46b4-f079-5cd324cc1341"
      },
      "execution_count": null,
      "outputs": [
        {
          "output_type": "stream",
          "name": "stdout",
          "text": [
            "Requirement already satisfied: ultralytics in /usr/local/lib/python3.10/dist-packages (8.3.49)\n",
            "Requirement already satisfied: numpy>=1.23.0 in /usr/local/lib/python3.10/dist-packages (from ultralytics) (1.26.4)\n",
            "Requirement already satisfied: matplotlib>=3.3.0 in /usr/local/lib/python3.10/dist-packages (from ultralytics) (3.8.0)\n",
            "Requirement already satisfied: opencv-python>=4.6.0 in /usr/local/lib/python3.10/dist-packages (from ultralytics) (4.10.0.84)\n",
            "Requirement already satisfied: pillow>=7.1.2 in /usr/local/lib/python3.10/dist-packages (from ultralytics) (11.0.0)\n",
            "Requirement already satisfied: pyyaml>=5.3.1 in /usr/local/lib/python3.10/dist-packages (from ultralytics) (6.0.2)\n",
            "Requirement already satisfied: requests>=2.23.0 in /usr/local/lib/python3.10/dist-packages (from ultralytics) (2.32.3)\n",
            "Requirement already satisfied: scipy>=1.4.1 in /usr/local/lib/python3.10/dist-packages (from ultralytics) (1.13.1)\n",
            "Requirement already satisfied: torch>=1.8.0 in /usr/local/lib/python3.10/dist-packages (from ultralytics) (2.5.1+cu121)\n",
            "Requirement already satisfied: torchvision>=0.9.0 in /usr/local/lib/python3.10/dist-packages (from ultralytics) (0.20.1+cu121)\n",
            "Requirement already satisfied: tqdm>=4.64.0 in /usr/local/lib/python3.10/dist-packages (from ultralytics) (4.66.6)\n",
            "Requirement already satisfied: psutil in /usr/local/lib/python3.10/dist-packages (from ultralytics) (5.9.5)\n",
            "Requirement already satisfied: py-cpuinfo in /usr/local/lib/python3.10/dist-packages (from ultralytics) (9.0.0)\n",
            "Requirement already satisfied: pandas>=1.1.4 in /usr/local/lib/python3.10/dist-packages (from ultralytics) (2.2.2)\n",
            "Requirement already satisfied: seaborn>=0.11.0 in /usr/local/lib/python3.10/dist-packages (from ultralytics) (0.13.2)\n",
            "Requirement already satisfied: ultralytics-thop>=2.0.0 in /usr/local/lib/python3.10/dist-packages (from ultralytics) (2.0.13)\n",
            "Requirement already satisfied: contourpy>=1.0.1 in /usr/local/lib/python3.10/dist-packages (from matplotlib>=3.3.0->ultralytics) (1.3.1)\n",
            "Requirement already satisfied: cycler>=0.10 in /usr/local/lib/python3.10/dist-packages (from matplotlib>=3.3.0->ultralytics) (0.12.1)\n",
            "Requirement already satisfied: fonttools>=4.22.0 in /usr/local/lib/python3.10/dist-packages (from matplotlib>=3.3.0->ultralytics) (4.55.3)\n",
            "Requirement already satisfied: kiwisolver>=1.0.1 in /usr/local/lib/python3.10/dist-packages (from matplotlib>=3.3.0->ultralytics) (1.4.7)\n",
            "Requirement already satisfied: packaging>=20.0 in /usr/local/lib/python3.10/dist-packages (from matplotlib>=3.3.0->ultralytics) (24.2)\n",
            "Requirement already satisfied: pyparsing>=2.3.1 in /usr/local/lib/python3.10/dist-packages (from matplotlib>=3.3.0->ultralytics) (3.2.0)\n",
            "Requirement already satisfied: python-dateutil>=2.7 in /usr/local/lib/python3.10/dist-packages (from matplotlib>=3.3.0->ultralytics) (2.8.2)\n",
            "Requirement already satisfied: pytz>=2020.1 in /usr/local/lib/python3.10/dist-packages (from pandas>=1.1.4->ultralytics) (2024.2)\n",
            "Requirement already satisfied: tzdata>=2022.7 in /usr/local/lib/python3.10/dist-packages (from pandas>=1.1.4->ultralytics) (2024.2)\n",
            "Requirement already satisfied: charset-normalizer<4,>=2 in /usr/local/lib/python3.10/dist-packages (from requests>=2.23.0->ultralytics) (3.4.0)\n",
            "Requirement already satisfied: idna<4,>=2.5 in /usr/local/lib/python3.10/dist-packages (from requests>=2.23.0->ultralytics) (3.10)\n",
            "Requirement already satisfied: urllib3<3,>=1.21.1 in /usr/local/lib/python3.10/dist-packages (from requests>=2.23.0->ultralytics) (2.2.3)\n",
            "Requirement already satisfied: certifi>=2017.4.17 in /usr/local/lib/python3.10/dist-packages (from requests>=2.23.0->ultralytics) (2024.8.30)\n",
            "Requirement already satisfied: filelock in /usr/local/lib/python3.10/dist-packages (from torch>=1.8.0->ultralytics) (3.16.1)\n",
            "Requirement already satisfied: typing-extensions>=4.8.0 in /usr/local/lib/python3.10/dist-packages (from torch>=1.8.0->ultralytics) (4.12.2)\n",
            "Requirement already satisfied: networkx in /usr/local/lib/python3.10/dist-packages (from torch>=1.8.0->ultralytics) (3.4.2)\n",
            "Requirement already satisfied: jinja2 in /usr/local/lib/python3.10/dist-packages (from torch>=1.8.0->ultralytics) (3.1.4)\n",
            "Requirement already satisfied: fsspec in /usr/local/lib/python3.10/dist-packages (from torch>=1.8.0->ultralytics) (2024.10.0)\n",
            "Requirement already satisfied: sympy==1.13.1 in /usr/local/lib/python3.10/dist-packages (from torch>=1.8.0->ultralytics) (1.13.1)\n",
            "Requirement already satisfied: mpmath<1.4,>=1.1.0 in /usr/local/lib/python3.10/dist-packages (from sympy==1.13.1->torch>=1.8.0->ultralytics) (1.3.0)\n",
            "Requirement already satisfied: six>=1.5 in /usr/local/lib/python3.10/dist-packages (from python-dateutil>=2.7->matplotlib>=3.3.0->ultralytics) (1.17.0)\n",
            "Requirement already satisfied: MarkupSafe>=2.0 in /usr/local/lib/python3.10/dist-packages (from jinja2->torch>=1.8.0->ultralytics) (3.0.2)\n",
            "Requirement already satisfied: albumentations in /usr/local/lib/python3.10/dist-packages (1.4.22)\n",
            "Requirement already satisfied: numpy>=1.24.4 in /usr/local/lib/python3.10/dist-packages (from albumentations) (1.26.4)\n",
            "Requirement already satisfied: scipy>=1.10.0 in /usr/local/lib/python3.10/dist-packages (from albumentations) (1.13.1)\n",
            "Requirement already satisfied: PyYAML in /usr/local/lib/python3.10/dist-packages (from albumentations) (6.0.2)\n",
            "Requirement already satisfied: pydantic>=2.9.2 in /usr/local/lib/python3.10/dist-packages (from albumentations) (2.10.3)\n",
            "Requirement already satisfied: albucore==0.0.21 in /usr/local/lib/python3.10/dist-packages (from albumentations) (0.0.21)\n",
            "Requirement already satisfied: eval-type-backport in /usr/local/lib/python3.10/dist-packages (from albumentations) (0.2.0)\n",
            "Requirement already satisfied: opencv-python-headless>=4.9.0.80 in /usr/local/lib/python3.10/dist-packages (from albumentations) (4.10.0.84)\n",
            "Requirement already satisfied: stringzilla>=3.10.4 in /usr/local/lib/python3.10/dist-packages (from albucore==0.0.21->albumentations) (3.11.0)\n",
            "Requirement already satisfied: simsimd>=5.9.2 in /usr/local/lib/python3.10/dist-packages (from albucore==0.0.21->albumentations) (6.2.1)\n",
            "Requirement already satisfied: annotated-types>=0.6.0 in /usr/local/lib/python3.10/dist-packages (from pydantic>=2.9.2->albumentations) (0.7.0)\n",
            "Requirement already satisfied: pydantic-core==2.27.1 in /usr/local/lib/python3.10/dist-packages (from pydantic>=2.9.2->albumentations) (2.27.1)\n",
            "Requirement already satisfied: typing-extensions>=4.12.2 in /usr/local/lib/python3.10/dist-packages (from pydantic>=2.9.2->albumentations) (4.12.2)\n"
          ]
        }
      ]
    },
    {
      "cell_type": "markdown",
      "source": [
        "## 1. 경로 설정"
      ],
      "metadata": {
        "id": "Xypu4jTbNx_x"
      }
    },
    {
      "cell_type": "code",
      "execution_count": null,
      "metadata": {
        "colab": {
          "base_uri": "https://localhost:8080/"
        },
        "id": "f3hhNYNJwOHB",
        "outputId": "48bec434-5254-4383-cc20-ea7c96ae5306"
      },
      "outputs": [
        {
          "output_type": "stream",
          "name": "stdout",
          "text": [
            "Drive already mounted at /content/drive; to attempt to forcibly remount, call drive.mount(\"/content/drive\", force_remount=True).\n"
          ]
        }
      ],
      "source": [
        "from google.colab import drive\n",
        "drive.mount('/content/drive')"
      ]
    },
    {
      "cell_type": "code",
      "source": [
        "path = '/content/drive/MyDrive/menu_project'"
      ],
      "metadata": {
        "id": "SnLT0PCa1Np5"
      },
      "execution_count": null,
      "outputs": []
    },
    {
      "cell_type": "markdown",
      "source": [
        "## 2. 데이터 불러오기 및 yolo_dataset 폴더 생성"
      ],
      "metadata": {
        "id": "CDqSVqCMeWC3"
      }
    },
    {
      "cell_type": "code",
      "source": [
        "data = os.path.join(path + '/data/meta_data.zip')\n",
        "menu_info_file =  os.path.join(path + '/data/menu_info.json')\n",
        "\n",
        "print(data)\n",
        "print(menu_info_file)"
      ],
      "metadata": {
        "colab": {
          "base_uri": "https://localhost:8080/"
        },
        "id": "z4nCA53neYgW",
        "outputId": "0a42c77a-a4da-4d2f-f32b-4bdb0e87304a"
      },
      "execution_count": null,
      "outputs": [
        {
          "output_type": "stream",
          "name": "stdout",
          "text": [
            "/content/drive/MyDrive/menu_project/data/meta_data.zip\n",
            "/content/drive/MyDrive/menu_project/data/menu_info.json\n"
          ]
        }
      ]
    },
    {
      "cell_type": "markdown",
      "source": [
        "* 데이터를 옮길 폴더 설정"
      ],
      "metadata": {
        "id": "dYmOmy15ZqNI"
      }
    },
    {
      "cell_type": "code",
      "source": [
        "# base_folder에 image, label 폴더 생성\n",
        "base_folder = '/content/yolo_dataset'\n",
        "image_folder = os.path.join(base_folder, 'images')\n",
        "label_folder = os.path.join(base_folder, 'labels')\n",
        "\n",
        "# 각각 train과 val 폴더 생성\n",
        "os.makedirs(os.path.join(image_folder, 'train'), exist_ok=True)\n",
        "os.makedirs(os.path.join(image_folder, 'val'), exist_ok=True)\n",
        "os.makedirs(os.path.join(label_folder, 'train'), exist_ok=True)\n",
        "os.makedirs(os.path.join(label_folder, 'val'), exist_ok=True)\n",
        "\n",
        "# 특정 폴더 삭제\n",
        "'''\n",
        "# 삭제하려는 폴더 경로\n",
        "folders_to_delete = [\n",
        "    '/content/yolo_dataset',\n",
        "]\n",
        "\n",
        "# 폴더 삭제\n",
        "for folder in folders_to_delete:\n",
        "    if os.path.exists(folder):\n",
        "        shutil.rmtree(folder)\n",
        "        print(f\"Deleted: {folder}\")\n",
        "    else:\n",
        "        print(f\"Folder not found: {folder}\")\n",
        "'''\n",
        "\n",
        "# 폴더 경로 설정\n",
        "image_train_path = os.path.join(image_folder, 'train')\n",
        "image_valid_path = os.path.join(image_folder, 'val')\n",
        "label_train_path = os.path.join(label_folder, 'train')\n",
        "label_valid_path = os.path.join(label_folder, 'val')"
      ],
      "metadata": {
        "id": "86zJc0wYiRpx"
      },
      "execution_count": null,
      "outputs": []
    },
    {
      "cell_type": "markdown",
      "source": [
        "## 3. 데이터 처리(yolo 학습 구조로 파일 정리)\n",
        "\n"
      ],
      "metadata": {
        "id": "ZsIC943Qth13"
      }
    },
    {
      "cell_type": "markdown",
      "source": [
        "### 1) 이미지 처리 함수: 폴더 안에 zip 파일 열어서 풀기"
      ],
      "metadata": {
        "id": "khAOH81iZ1pB"
      }
    },
    {
      "cell_type": "code",
      "source": [
        "# zip 파일 풀어서 파일 옮기기\n",
        "def move_img_files(target_folder, tmp_folder, dst_path):\n",
        "  for target in target_folder:\n",
        "    zip_ref.extract(target, tmp_folder) # zip 파일을 임시 폴더로 추출\n",
        "    extracted_zip_path = os.path.join(tmp_folder, target) # 추출된 zip 파일 경로\n",
        "\n",
        "    # 내부 zip 파일 열기\n",
        "    with zipfile.ZipFile(extracted_zip_path, 'r') as inner_zip:\n",
        "      inner_zip.extractall(tmp_folder) # 모든 파일 추출\n",
        "      # 추출된 파일 yolo_dataset 폴더로 이동\n",
        "      for img_file in inner_zip.namelist():\n",
        "        if img_file.endswith('.jpg'):\n",
        "          img_src = os.path.join(tmp_folder, img_file)\n",
        "          img_dst = os.path.join(dst_path, os.path.basename(img_file))\n",
        "          shutil.move(img_src, img_dst)\n",
        "      print(f\"Moved: {extracted_zip_path}\")"
      ],
      "metadata": {
        "id": "dGGFtcYGe2ZU"
      },
      "execution_count": null,
      "outputs": []
    },
    {
      "cell_type": "markdown",
      "source": [
        "### 2) 라벨 처리 함수: zip파일 열고 json -> txt로 변환 후 옮기기"
      ],
      "metadata": {
        "id": "qQhUb4qHf92U"
      }
    },
    {
      "cell_type": "code",
      "source": [
        "# json -> txt 파일로 형식 맞춰서 변환\n",
        "# menu_data를 딕셔너리로 변환 (ko를 키로 사용)\n",
        "with open(menu_info_file, 'r') as f:\n",
        "      menu_data = json.load(f)\n",
        "menu_dict = {menu['ko']: menu['class'] for menu in menu_data}\n",
        "\n",
        "def json2txt(json_path, json_data, yolo_path):\n",
        "  json_data = json.load(json_data) # 입력 json 파일 읽기\n",
        "\n",
        "  # 사진 전체 가로, 세로 길이\n",
        "  image_width = json_data.get(\"meta\", {}).get(\"image_original_width\")\n",
        "  image_height = json_data.get(\"meta\", {}).get(\"image_original_height\")\n",
        "\n",
        "  yolo_lines = [] # 라벨 데이터를 모을 리스트\n",
        "  for annotation in json_data.get(\"annotations\", []):\n",
        "    ocr_info = annotation.get(\"ocr\", {})\n",
        "    x = ocr_info.get(\"x\")\n",
        "    y = ocr_info.get(\"y\")\n",
        "    width = ocr_info.get(\"width\")\n",
        "    height = ocr_info.get(\"height\")\n",
        "\n",
        "    # YOLO 형식의 데이터로 변환\n",
        "    class_id = menu_dict.get(annotation.get(\"menu_information\", {}).get(\"ko\")) # 클래스 아이디\n",
        "\n",
        "    x_center = (x + width / 2) / image_width\n",
        "    y_center = (y + height / 2) / image_height\n",
        "    width_ratio = width / image_width\n",
        "    height_ratio = height / image_height\n",
        "\n",
        "    # YOLO 형식으로 포맷\n",
        "    yolo_format = f\"{class_id} {x_center} {y_center} {width_ratio} {height_ratio}\"\n",
        "    yolo_lines.append(yolo_format)\n",
        "\n",
        "  # YOLO 폴더에 txt 데이터 옮기기\n",
        "  txt_file_name = os.path.splitext(os.path.basename(json_path))[0] + '-tf' + '.txt'\n",
        "  yolo_path = os.path.join(yolo_path, txt_file_name)\n",
        "  with open(yolo_path, 'w', encoding='utf-8') as f:\n",
        "          f.write(\"\\n\".join(yolo_lines))\n",
        "\n",
        "# zip 파일 풀어서 파일 옮기기\n",
        "def move_label_files(target_folder, tmp_folder, dst_path):\n",
        "  for target in target_folder:\n",
        "    zip_ref.extract(target, tmp_folder) # zip 파일을 임시 폴더로 추출\n",
        "    extracted_zip_path = os.path.join(tmp_folder, target) # 추출된 zip 파일 경로\n",
        "\n",
        "    # 내부 zip 파일 열기\n",
        "    with zipfile.ZipFile(extracted_zip_path, 'r') as inner_zip:\n",
        "      # 추출된 파일 json -> txt 변환\n",
        "      for label_file in inner_zip.namelist():\n",
        "        if label_file.endswith('.json'):\n",
        "          json_path = os.path.join(tmp_folder, label_file)\n",
        "          json_file = inner_zip.open(label_file)\n",
        "          json2txt(json_path, json_file, dst_path)\n",
        "\n",
        "      print(f\"Moved: {extracted_zip_path}\")"
      ],
      "metadata": {
        "id": "H8g6MIzSgKpc"
      },
      "execution_count": null,
      "outputs": []
    },
    {
      "cell_type": "markdown",
      "source": [
        "### 3) 전체 파일 압축 해제 후 이동"
      ],
      "metadata": {
        "id": "95ayIZgWt2JK"
      }
    },
    {
      "cell_type": "code",
      "source": [
        "# 임시 폴더 (압축 해제용)\n",
        "tmp = '/content/tmp'\n",
        "os.makedirs(tmp, exist_ok=True)\n",
        "\n",
        "# 압축 파일 열기\n",
        "with zipfile.ZipFile(data, 'r') as zip_ref:\n",
        "  # 이미지 파일 선택\n",
        "  train_image = [f for f in zip_ref.namelist() if 'images/train/' in f and f.endswith('.zip')]\n",
        "  valid_image = [f for f in zip_ref.namelist() if 'images/val/' in f and f.endswith('.zip')]\n",
        "  train_label = [f for f in zip_ref.namelist() if 'labels/train/' in f and f.endswith('.zip')]\n",
        "  valid_label = [f for f in zip_ref.namelist() if 'labels/val/' in f and f.endswith('.zip')]\n",
        "\n",
        "  # 'train', 'valid' 이미지 파일\n",
        "  print(f\"Train images: {train_image}, Valid images: {valid_image}\")\n",
        "  move_img_files(train_image, tmp, image_train_path)\n",
        "  move_img_files(valid_image, tmp, image_valid_path)\n",
        "\n",
        "  # 'train', 'valid' 라벨 파일들 출력\n",
        "  print(f\"Train labels: {train_label}, Valid labels: {valid_label}\")\n",
        "  move_label_files(train_label, tmp, label_train_path)\n",
        "  move_label_files(valid_label, tmp, label_valid_path)"
      ],
      "metadata": {
        "colab": {
          "base_uri": "https://localhost:8080/"
        },
        "id": "3T3CFcoct0SU",
        "outputId": "20807a13-f0a9-4b8b-9e23-c17a55bc5503"
      },
      "execution_count": null,
      "outputs": [
        {
          "output_type": "stream",
          "name": "stdout",
          "text": [
            "Train images: ['images/train/busan.zip', 'images/train/seoul.zip'], Valid images: ['images/val/jeolla.zip']\n",
            "Moved: /content/tmp/images/train/busan.zip\n",
            "Moved: /content/tmp/images/train/seoul.zip\n",
            "Moved: /content/tmp/images/val/jeolla.zip\n",
            "Train labels: ['labels/train/busan.zip', 'labels/train/seoul.zip'], Valid labels: ['labels/val/jeolla.zip']\n",
            "Moved: /content/tmp/labels/train/busan.zip\n",
            "Moved: /content/tmp/labels/train/seoul.zip\n",
            "Moved: /content/tmp/labels/val/jeolla.zip\n"
          ]
        }
      ]
    },
    {
      "cell_type": "code",
      "source": [
        "# 각 요소의 개수 확인\n",
        "print(len(os.listdir(image_train_path)))\n",
        "print(len(os.listdir(image_valid_path)))\n",
        "print(len(os.listdir(label_train_path)))\n",
        "print(len(os.listdir(label_valid_path)))"
      ],
      "metadata": {
        "colab": {
          "base_uri": "https://localhost:8080/"
        },
        "id": "OvU7pRc3hEmV",
        "outputId": "c573327d-4086-4d05-b335-b43964261f19"
      },
      "execution_count": null,
      "outputs": [
        {
          "output_type": "stream",
          "name": "stdout",
          "text": [
            "365\n",
            "47\n",
            "365\n",
            "47\n"
          ]
        }
      ]
    },
    {
      "cell_type": "code",
      "source": [
        "# 이미지, 라벨 파일 이름 일치 여부 확인\n",
        "def check_dataset_consistency(image_dir, label_dir):\n",
        "    image_files = {os.path.splitext(f)[0] for f in os.listdir(image_dir) if f.endswith('.jpg')}\n",
        "    label_files = {os.path.splitext(f)[0] for f in os.listdir(label_dir) if f.endswith('.txt')}\n",
        "\n",
        "    missing_labels = image_files - label_files\n",
        "    missing_images = label_files - image_files\n",
        "\n",
        "    if missing_labels:\n",
        "        print(\"Missing label files for images:\", sorted(list(missing_labels)))\n",
        "        print(len(missing_labels))\n",
        "    if missing_images:\n",
        "        print(\"Missing image files for labels:\", sorted(list(missing_images)))\n",
        "        print(len(missing_images))\n",
        "\n",
        "    if not missing_labels and not missing_images:\n",
        "        print(\"All files are consistent!\")\n",
        "\n",
        "check_dataset_consistency(image_train_path, label_train_path)"
      ],
      "metadata": {
        "colab": {
          "base_uri": "https://localhost:8080/"
        },
        "id": "2aHwH6DDI02S",
        "outputId": "102deb00-9017-44fb-b09d-1563a6f99375"
      },
      "execution_count": null,
      "outputs": [
        {
          "output_type": "stream",
          "name": "stdout",
          "text": [
            "All files are consistent!\n"
          ]
        }
      ]
    },
    {
      "cell_type": "markdown",
      "source": [
        "### 4) yaml 파일 작성"
      ],
      "metadata": {
        "id": "tY_yFTA93eGW"
      }
    },
    {
      "cell_type": "code",
      "source": [
        "# menu_info JSON 파일에서 {클래스: 메뉴명} 추출\n",
        "with open(menu_info_file, 'r', encoding='utf-8') as f:\n",
        "    data = json.load(f)\n",
        "\n",
        "# class_names 딕셔너리 생성\n",
        "class_names = {item[\"class\"]-1: item[\"ko\"] for item in data}\n",
        "print(class_names)\n",
        "\n",
        "# 데이터셋 구조 정의\n",
        "dataset_structure = {\n",
        "    'path': '/content/yolo_dataset',  # 데이터셋 루트 경로\n",
        "    'train': 'images/train',           # 훈련 이미지 경로\n",
        "    'val': 'images/val',               # 검증 이미지 경로\n",
        "    \"nc\": len(class_names),            # 클래스 개수\n",
        "    'names': class_names               # 클래스 이름\n",
        "}\n",
        "\n",
        "# YAML 파일로 저장\n",
        "yaml_file_path = '/content/dataset_structure.yaml'\n",
        "with open(yaml_file_path, 'w', encoding='utf-8') as yaml_file:\n",
        "    yaml.dump(dataset_structure, yaml_file, default_flow_style=False, allow_unicode=True)\n",
        "\n",
        "print(f\"YAML 파일이 생성되었습니다.\")"
      ],
      "metadata": {
        "colab": {
          "base_uri": "https://localhost:8080/"
        },
        "id": "vUb5TLU53eMZ",
        "outputId": "203211e4-ce46-4ac6-c4be-44baeef7e4a0"
      },
      "execution_count": null,
      "outputs": [
        {
          "output_type": "stream",
          "name": "stdout",
          "text": [
            "{0: '간장마늘치킨', 1: '후라이드치킨', 2: '떡강정', 3: '양념치친', 4: '치드뿌치텐더', 5: '후라이드텐더', 6: '테라생맥주', 7: '오렌지주스', 8: '탄산음료', 9: '하이네켄', 10: '맘스스낵볼세트', 11: '치즈뿌치감자(체다)', 12: '코울슬로', 13: '치즈스틱', 14: '핫크리스피버거', 15: '리아미라클버거', 16: '클래식치즈버거', 17: '새우버거', 18: '불고기버거', 19: '티렉스버거', 20: '크레이지핫팩', 21: '치킨매니아팩', 22: '충분해팩', 23: '베이스볼버거팩', 24: '시그니처투게더팩', 25: '어메이징세트', 26: '메가바이트세트', 27: '치즈베이컨세트', 28: '크런치윙', 29: '치킨시저샐러드콤보', 30: '슈퍼소닉팩', 31: '콜라', 32: '사이다', 33: '제로슈거콜라', 34: '꿔바로우', 35: '어향고기', 36: '경장육슬', 37: '샹라고기', 38: '건두부고추볶음', 39: '마파두부', 40: '궁보기정', 41: '깐벤오징어', 42: '샹라대하', 43: '마라대하', 44: '버섯청경채', 45: '어향가지', 46: '지삼선', 47: '가지튀김', 48: '수주육편', 49: '깐궈막창', 50: '깐궈오리머리', 51: '훙소육란요리', 52: '고기구이요리', 53: '홍소향어', 54: '쯥붕어요리', 55: '영빈세트', 56: '찹쌀탕수육+짜장', 57: '찹쌀탕수육+짬뽕+볶음밥', 58: '깐풍기+짜장', 59: '깐풍기+짬뽕또는볶음밥', 60: '깐쇼새우+짜장', 61: '깐쇼새우+짬뽕또는볶음밥', 62: '크림새우+짜장', 63: '크림새우+짬뽕/볶음밥', 64: '꿔바러우', 65: '양꼬치', 66: '매운양꼬치', 67: '가지볶음', 68: '생양꼬치', 69: '오돌뼈볶음', 70: '닭똥집볶음', 71: '갈비살', 72: '고급양갈비', 73: '토마토계란볶음', 74: '건두부볶음', 75: '닭똥집', 76: '오이무침', 77: '건두부무침', 78: '오돌뼈', 79: '칭따오맥주', 80: '옥수수온면', 81: '하얼빈맥주', 82: '물만두', 83: '연태고량', 84: '가지볶음밥', 85: '공부가주', 86: '계란볶음밥', 87: '설원', 88: '새우볶음밥', 89: '컵술', 90: '양갈비탕', 91: '이과두주', 92: '계란탕', 93: '맥주', 94: '소주', 95: '공기밥', 96: '음료수', 97: '스페셜참치회', 98: '골드참치회', 99: '프리미엄참치회', 100: 'VIP참치회', 101: 'VVIP참치회', 102: '참치회한상세트', 103: '참치초밥포장', 104: '아나고회', 105: '장어구이', 106: '모듬회', 107: '해삼', 108: '멍게', 109: '산낙지', 110: '생우럭탕', 111: '장어탕', 112: '장어구이정식', 113: '어탕수제비', 114: '회비빔밥', 115: '안심카츠', 116: '등심카츠', 117: '원카츠', 118: '안심카츠정식', 119: '등심카츠정식', 120: '옛날돈카츠', 121: '모듬카츠', 122: '고구마치즈카츠', 123: '양파카츠', 124: '점보카츠', 125: '치즈카츠', 126: '떡볶이세트', 127: '모밀세트', 128: '우동세트', 129: '카레카츠', 130: '김치치즈나베', 131: '김치우동', 132: '우동', 133: '비빔모밀소바', 134: '판모밀소바', 135: '김치나베', 136: '한컵카레', 137: '김치우동카츠', 138: '우동카츠', 139: '비빔카츠', 140: '판모밀카츠', 141: '매콤치킨토마토파스타', 142: '토마토파스타(새우)', 143: '매콤치킨로제파스타', 144: '뽀로로', 145: '스프라이트', 146: '모듬샤브샤브', 147: '해물샤브샤브', 148: '세트메뉴A', 149: '세트메뉴B', 150: '세트메뉴C', 151: '투다리꼬치세트', 152: '깻잎말이꼬치', 153: '닭산적꼬치', 154: '팽이버섯말이', 155: '염통꼬치', 156: '모래집꼬치', 157: '닭껍질꼬치', 158: '물막국수', 159: '물비빔막국수', 160: '어묵탕', 161: '비빔쫄면', 162: '물쫄면', 163: '한우샤브+모듬버섯세트', 164: '소고기샤브+모듬버섯세트', 165: '라면', 166: '김치만두전골', 167: '철판제육볶음', 168: '수제비', 169: '제육볶음', 170: '볶음밥', 171: '주먹밥', 172: '김치곱창전골', 173: '오뎅탕', 174: '김치전골', 175: '계란말이', 176: '자숙문어', 177: '김치찜', 178: '제육김치찌개정식', 179: '매화', 180: '해바라기', 181: '치킨마요김치찌개정식', 182: '빅치킨마요김치찌개정식', 183: '진달래', 184: '개나리', 185: '먹태구이', 186: '새우튀김', 187: '카스생', 188: '한치+땅콩', 189: '카스', 190: '모듬튀김', 191: '노가리+땅콩', 192: '한맥', 193: '사요리', 194: '치즈스틱+나쵸', 195: '시사모', 196: '음료', 197: '닭날개+봉튀김', 198: '육포', 199: '감자튀김+나쵸', 200: '꾸이맨', 201: '황도', 202: '육전', 203: '계절과일', 204: '모듬소세지', 205: '두부김치', 206: '스팸계란구이', 207: '조개탕', 208: '유부오뎅탕', 209: '골뱅이무침', 210: '번데기탕', 211: '무뼈닭발', 212: '홍합탕', 213: '타코와사비', 214: '해물두부찜', 215: '순두부정식', 216: '청국장정식', 217: '한우두부찜', 218: '콩나물밥순두부', 219: '참치두부찜', 220: '콩나물밥청국장', 221: '두부찜', 222: '콩나물밥', 223: '우동사리', 224: '당면사리', 225: '대구탕전골', 226: '대구뽈찜', 227: '아구탕전골', 228: '생탁', 229: '대구곤추가', 230: '모듬생선구이', 231: '고등어구이', 232: '쪽갈비찜', 233: '생선구이정식', 234: '대구탕', 235: '갈치구이정식', 236: '사리', 237: '접시순대', 238: '돼지수육', 239: '돼지국밥', 240: '내장수육', 241: '순대국밥', 242: '내장국밥', 243: '모듬수육', 244: '섞어국밥', 245: '수육백반', 246: '탁주', 247: '고기,내장,순대(짬뽕)', 248: '순대내장전골', 249: '사리추가', 250: '해장별미된장죽', 251: '한우육회물회', 252: '한우양념갈비', 253: '한우육회비빔밥', 254: '프리미엄한우육회', 255: '뭉티기', 256: '한우모듬', 257: '고래고기', 258: '양념장어구이', 259: '메추리', 260: '해물파전', 261: '왕갈비탕', 262: '냉면(물)', 263: '냉면(비빔)', 264: '갈비찜', 265: '소고기해장국', 266: '선지해장국', 267: '매운닭발', 268: '닭도리탕', 269: '명태전', 270: '돼지두루치기', 271: '김치찌개', 272: '생선구이', 273: '된장찌개', 274: '두부김치수육', 275: '돈국밥', 276: '순대수육', 277: '순대버섯전골', 278: '두부김치수백', 279: '한방돈국밥', 280: '한방순대국밥', 281: '두루치기', 282: '맛보기수육', 283: '맛보기순대', 284: '맛보기두루치기', 285: '오리소금구이', 286: '오리전복백숙', 287: '삼겹살', 288: '매실마을', 289: '생선모듬', 290: '막걸리', 291: '갈치찌개', 292: '갈치구이', 293: '생선정식', 294: '곱빼기추가', 295: '수육', 296: '마늘수육', 297: '특모듬', 298: '머릿고기수육', 299: '만두', 300: '내장곱창전골', 301: '모밀막국수', 302: '콩나물해장국', 303: '꽃게탕', 304: '돌솥비빔밥', 305: '공기밥별도', 306: '소불고기', 307: '부대찌개', 308: '비빔밥', 309: '불낙전골', 310: '갈비탕', 311: '낙지볶음', 312: '떡만두국', 313: '순두부찌개', 314: '낙지전골', 315: '고니추가', 316: '대구찜', 317: '전골', 318: '알말이', 319: '가오리매운탕', 320: '마늘순대백반', 321: '버크셔순대', 322: '남도식얼큰국밥', 323: '삼겹돼지국밥', 324: '어린이국밥', 325: '순곱새+순대+마늘수육', 326: '한우순곱새', 327: '순대곱창새우전골', 328: '순곱', 329: '순살고추장바베큐', 330: '뼈고추장바베큐', 331: '순살고추장파닭', 332: '치즈고감자촌닭', 333: '치즈새우촌닭', 334: '순살어니언치킨', 335: '순살치즈닝', 336: '통삼겹', 337: '파김치찌개', 338: '한우된장찌개', 339: '통목살', 340: '통항정', 341: '육회비빔밥', 342: '한우선지해장국', 343: '꽃삼겹', 344: '문어라면', 345: '돌솥밥', 346: '한우차돌박이', 347: '비빔밀면', 348: '부산밀면', 349: '환타', 350: '제육김치부대찌개정식', 351: '새치', 352: '돈치스팸김치부대찌개정식', 353: '돈까스고기', 354: '칠리찹쌀탕수육', 355: '돈까스치즈스팸도시락', 356: '숯불직화구이도시락', 357: '동백도시락', 358: '메가치킨제육', 359: '치킨마요김치부대찌개정식', 360: '빅치킨마요김치부대찌개정식', 361: '탕수육도시락고기고기', 362: '돈치', 363: '치킨제육', 364: '돈까스도련님', 365: '감초볶음고추장소스', 366: '두부강된장소스', 367: '메가치킨마요', 368: '참치야채감초고추장', 369: '묵은지김치찌개', 370: '시골제육두부강된장비빔밥', 371: '소불고기감초고추장비빔밥', 372: '김치부대찌개', 373: '참치마요', 374: '스팸마요', 375: '돈까스치즈마요', 376: '메가스팸마요', 377: '묵은지김치찌개만구매시', 378: '김치부대찌개만구매시', 379: '왕치킨마요', 380: '빅치킨마요', 381: '치킨마요', 382: '카레만구매시', 383: '오리지널', 384: '후라이드순살', 385: '돈까스덮밥', 386: '새우돈까스덮밥', 387: '왕카레돈까스덮밥', 388: '숯불직화구이덮밥', 389: '핫치즈닭갈비덮밥', 390: '마파두부덮밥', 391: '오리지널치즈닭갈비덮밥', 392: '돈까스카레', 393: '닭강정', 394: '김치볶음밥', 395: '나시고랭', 396: '리얼꿀미니호떡', 397: '케이준후라이', 398: '뉴감자고로케', 399: '미니찹쌀탕수육', 400: '스팸김치볶음밥', 401: '미니찹쌀핫도그', 402: '소불고기철판볶음밥', 403: '스팸철판볶음밥', 404: '튼튼도시락', 405: '계란후라이', 406: '햄버그스테이크', 407: '청양고추', 408: '새우후라이', 409: '치킨', 410: '스팸', 411: '3종믹스치즈', 412: '토네이도소세지', 413: '반찬돈까스도련님', 414: '반찬치킨', 415: '반찬토네이도소세지', 416: '반찬돈까스', 417: '숟가락추가시', 418: '황태해장국', 419: '매콤해물된장국', 420: '미소된장국', 421: '완도미역국', 422: '청년계란말이', 423: '청년석쇠불고기', 424: '청년스팸구이', 425: '청년너비아니', 426: '고추참치마요밥', 427: '간장버터밥', 428: '청년대접밥', 429: '대접계란밥', 430: '흰밥', 431: '돼지김치찌개세트', 432: '대패김치찌개세트', 433: '참치김치찌개세트', 434: '부대김치찌개세트', 435: '청년한돈김치찜', 436: '나홀로돼지김치찌개세트', 437: '나홀로참치김치찌개세트', 438: '나홀로대패김치찌개세트', 439: '나홀로부대김치찌개세트', 440: 'LA갈비', 441: '김치오뎅탕', 442: '먹태', 443: '소불고기전골', 444: '대패두루치기', 445: '감자튀김+쥐포', 446: '골뱅이비빔면', 447: '부추전', 448: '김치전', 449: '참이슬', 450: '감자튀김', 451: '대선', 452: '우유튀김', 453: '진로', 454: '나쵸치즈', 455: '좋은데이', 456: '크림치즈볼', 457: '테라', 458: '쥐포튀김', 459: '청하', 460: '짜파게티', 461: '해장라면', 462: '해바라기도시락', 463: '매화(고등어간장구이)', 464: '개나리(고등어간장구이)', 465: '제육부대찌개정식', 466: '돈치스팸부대찌개정식', 467: '빅치킨마요부대찌개정식', 468: '치킨마요부대찌개정식', 469: '삼겹살고기만', 470: '보쌈고기만', 471: '대패삼겹고기만', 472: '대패삼겹살고기만', 473: '2인보쌈안주세트', 474: '2인족발안주세트', 475: '보쌈안주세트', 476: '1인족발안주세트', 477: '까치복수육', 478: '복매운탕', 479: '복지리(까치복)', 480: '복찜(까치복)', 481: '까치복불고기', 482: '제육+순두부', 483: '고등어+순두부', 484: '떡갈비순두부', 485: '찹스테이크+순두부', 486: '소불고기+강된장', 487: '버섯육개장', 488: '해물수제비', 489: '생채비빔밥', 490: '매운얼큰수제비', 491: '들깨수제비', 492: '매생이수제비', 493: '새알팥죽', 494: '팥칼국수', 495: '해물칼국수', 496: '매운얼큰칼국수', 497: '들깨칼국수', 498: '살얼음동동주', 499: '비빔칼국수', 500: '햄토스트', 501: '햄치즈토스트', 502: '토스트', 503: '참치토스트', 504: '베이컨토스트', 505: '포테이토토스트', 506: '베이컨포테이토토스트', 507: '돈까스토스트', 508: '떡갈비토스트', 509: '김밥', 510: '떡라면', 511: '만두라면', 512: '손수제비', 513: '떡국', 514: '쫄면', 515: '물국수', 516: '만두국', 517: '비빔국수', 518: '찐만두', 519: '치킨체다치즈김밥', 520: '크래미와사비김밥', 521: '돈까스롤김밥', 522: '스팸김밥', 523: '소고기김밥', 524: '멸추김밥', 525: '불오뎅김밥', 526: '참치마요김밥', 527: '김가네김밥', 528: '해신볶음밥', 529: '빠에야새우볶음밥', 530: '오믈렛라이스', 531: '철판치즈김치볶음밥', 532: '스팸옛날도시락', 533: '치킨마요덮밥', 534: '콩나물비빔밥', 535: '김치가츠동', 536: '1인치즈닭갈비', 537: '낙지덮밥', 538: '고기듬뿍덮밥', 539: '돈커리덮밥', 540: '오불덮밥', 541: '소불고기덮밥', 542: '철판새우함박', 543: '등심돈까스', 544: '치즈돈까스', 545: '차돌된장찌개', 546: '소고기육개장', 547: '바지락칼국수', 548: '왕새우튀김우동', 549: '야채튀김우동', 550: '유부우동', 551: '오뎅', 552: '라볶이', 553: '쌀떡볶이', 554: '치즈떡볶이', 555: '콩국수', 556: '김치말이보리국수', 557: '얼음보리소바', 558: '물냉면', 559: '비빔보리국수', 560: '치즈불닭쫄면', 561: '비빔만두', 562: '홍콩식군만두', 563: '갈비만두', 564: '야채튀김', 565: '튀긴만두', 566: '건강하닭죽', 567: '왕새우튀김', 568: '왕김말이튀김', 569: '혼자서', 570: '키즈컵강정', 571: '셋이서', 572: '둘이서', 573: '여럿이', 574: '엽기닭발세트', 575: '2인엽기떡볶이', 576: '밀키트', 577: '엽기떡볶이', 578: '반반족발', 579: '엽기오돌뼈', 580: '엽기무뼈닭발', 581: '엽기국물닭발', 582: '로제떡볶이', 583: '엽기오돌뼈밥', 584: '김말이', 585: '참치마요밥', 586: '주먹김밥', 587: '계란찜', 588: '바삭치즈만두', 589: '계란야채죽', 590: '분모자튀김', 591: '엽봉', 592: '공깃밥', 593: '엽도그', 594: '크림떡볶이', 595: '오징어튀김', 596: '순대', 597: '오뎅튀김', 598: '분모자', 599: '음료(유산균)', 600: '모둠튀김', 601: '떡추가', 602: '모짜치즈', 603: '엽기닭볶음탕', 604: '오뎅추가', 605: '체다치즈', 606: '계란초밥', 607: '메추리알', 608: '햄', 609: '중국당면', 610: '베이컨', 611: '퐁당치즈만두', 612: '오리지날닭강정', 613: '쌀핫도그', 614: '간장닭강정', 615: '치즈핫도그', 616: '허니닭강정', 617: '순살후라이드', 618: '치즈볼', 619: '반+반', 620: '소스', 621: '무', 622: '유니짜장', 623: '고기짬뽕', 624: '호떡', 625: '떡볶이', 626: '납작탕수육', 627: '돈까스', 628: '고봉민김밥', 629: '떡갈비김밥', 630: '만둣국', 631: '소시지김밥', 632: '체다치즈돈까스김밥', 633: '돈까스김밥', 634: '비빔냉면', 635: '잔치국수', 636: '새우김밥', 637: '고상한쌈', 638: '매운김밥', 639: '냉모밀', 640: '소불고기김밥', 641: '고구마치즈돈까스', 642: '육개장한상', 643: '맵돈김밥', 644: '신라면', 645: '떡추가시', 646: '치즈', 647: '참치김밥', 648: '불닭김밥', 649: '돌판비빔밥', 650: '박고지김밥', 651: '치즈김밥', 652: '매콤어묵김밥', 653: '닭곰탕한상', 654: '된장돈불고기덮밥', 655: '오므라이스', 656: '베이컨크림파스타', 657: '쉬림프오일파스타', 658: '윙봉', 659: '핫점보닭다리', 660: '닭다리', 661: '파인애플샤베트', 662: '치즈스틱+감자튀김', 663: '똥집', 664: '2인세트', 665: 'A세트', 666: '3인세트', 667: 'B세트', 668: '4인세트', 669: 'C세트', 670: '찹스테이크', 671: '훈제연어와샐러드', 672: '레드', 673: '화이트', 674: '파인애플', 675: '카레밥', 676: '마늘빵', 677: '하이볼', 678: '감자고로케', 679: '우롱차', 680: '에스프레소', 681: '백차', 682: '아메리카노', 683: '페퍼민트', 684: '히비스커스', 685: '패션후르츠수제청', 686: '레몬에이드수제청', 687: '라임에이드수제청', 688: '닭가슴살포케', 689: '두부포케', 690: '연어포케', 691: '불고기포케', 692: '스테이크포케', 693: '쉬림프포케', 694: '그린포케', 695: '특갈비살소금구이', 696: '특갈비살양념구이', 697: '갈비살소금구이', 698: '갈비살양념구이', 699: '해산물쌀국수', 700: '소고기쌀국수', 701: '순살돈가스', 702: '금어교', 703: '해물샤오마이', 704: '용미하가우', 705: '비취교자', 706: '모든찜류', 707: '웨당샤오마이', 708: '후레쉬롤', 709: '고구마롤', 710: '레몬', 711: '자몽에이드', 712: '복분자', 713: '설중매', 714: '칭따오', 715: '생삼겹살', 716: '특목살', 717: '생갈비', 718: '갈매기살', 719: '항정살', 720: '가브리살', 721: '막국수', 722: '오겹살', 723: '비빔막국수', 724: '목살', 725: '양념갈비', 726: '대패삼겹', 727: '생삼겹', 728: '소대패', 729: '우삼겹', 730: '오리대패', 731: '모듬버섯', 732: '소세지', 733: '냄비라면', 734: '양갈비', 735: '양등심', 736: '양살치살', 737: '양양념갈비', 738: '한우육회', 739: '생오리불고기', 740: '생오리소금구이', 741: '오리훈제', 742: '오리불고기정식', 743: '닭갈비', 744: '닭갈비정식', 745: '설중매스피클링', 746: '닭도리탕정식', 747: '닭찜', 748: '옻닭백숙', 749: '매운날개', 750: '간장날개', 751: '영계통구이', 752: '누룽지', 753: '얼큰이라면', 754: '똥집후라이드', 755: '순살닭짜글이', 756: '닭발짜글이', 757: '고기추가', 758: '우삼겹짜글이', 759: '돼지짜글이', 760: 'SELF토핑', 761: '무뼈불닭발', 762: '뼈불닭발', 763: '무뼈치즈닭발', 764: 'SELF볶음밥', 765: 'self주먹밥', 766: '라면사리', 767: '생맥주', 768: '화요', 769: '쿨피스', 770: '족발', 771: '불족', 772: '청춘왕족발', 773: '쟁반메밀국수', 774: '별미꼬들족', 775: '냉채족발', 776: '불족발', 777: '왕족발+불족발', 778: '곱창전골', 779: '본갈비살', 780: '특양구이', 781: '클라우드', 782: '대창구이', 783: '음료수(콜라+사이다+환타)', 784: '화요17도', 785: '화요25도', 786: '특양볶음밥', 787: '돌양념구이', 788: '화요41도', 789: '염통구이', 790: '된장', 791: '라면,우동,당면사리', 792: '꽃갈비살', 793: '연태고량주', 794: '양고기모둠세트', 795: '닭날개구이', 796: '칭따오논알콜릭', 797: '새우구이', 798: '제비추리', 799: '하얼빈', 800: '또띠아', 801: '마늘꼬치', 802: '땡초라면', 803: '양념양꼬치', 804: '갈비살꼬치', 805: '순살양꼬치', 806: '델리양꼬치', 807: '매콤양꼬치', 808: '햇반', 809: '차돌한판', 810: '차돌반판', 811: '삼겹한판', 812: '삼겹반판', 813: '차삼한판', 814: '차삼반판', 815: '숙성안창살', 816: '육회', 817: '추가차돌박이', 818: '추가차돌삼겹', 819: '양곱창모듬', 820: '특양', 821: '대창', 822: '소창', 823: '차돌박이', 824: '돼지막창', 825: '당면,우동,라면사리', 826: 'VIIP스페셜모듬', 827: '불고기비빔밥', 828: '차돌된장국', 829: '삼겹김치찜', 830: '소고기국밥', 831: '냉면', 832: '큰소한마리', 833: '작은소한마리', 834: '암돼지삼겹살', 835: '한돈갈비', 836: '우(소)대갈비', 837: '시원', 838: '우대갈비소금구이', 839: '한라산', 840: '우대갈비양념구이', 841: '반병와인', 842: '대갈비소금구이', 843: '얼큰한육개장', 844: '수제맥주', 845: '대갈비양념구이', 846: '겹살갈비', 847: '된장찌게', 848: '버섯추가', 849: '새우', 850: '새송이버섯', 851: '냉면(물/비빔)', 852: '코카콜라', 853: '사이다(스프라이트)', 854: '제로콜라(펩시라임향)', 855: '환타(파인)', 856: '멸치세트', 857: '아나고', 858: '광어', 859: '밀치', 860: '가자미', 861: '우럭', 862: '도다리', 863: '감성돔', 864: '참돔', 865: '농어', 866: '돌돔', 867: '전어', 868: '매운탕', 869: '물회육수+야채', 870: '회덥밥', 871: '회정식', 872: '고급어종회', 873: '해물탕', 874: '초장', 875: '바지락탕', 876: '해물모듬회', 877: '해삼멍게', 878: '해물정구지전', 879: '명태머리전', 880: '문어숙회', 881: '빅치즈스틱', 882: '블랙치즈볼', 883: '레귤러컷', 884: '꼬친새우', 885: '콘소메빅치즈스틱', 886: '콘소메치즈볼', 887: '콘소메레귤러컷', 888: '악마새우', 889: '모둠감자', 890: '빅치즈&새우튀김', 891: '블랙새우', 892: '블랙크로칸슈', 893: '쿠키무스', 894: '블랙치즈케이크', 895: '크레이프롤', 896: '노가리', 897: '마른오징어', 898: '반건조오징어', 899: '버터가문어구이', 900: '버터구이오징어', 901: '버터구이오징어입', 902: '새끼먹태', 903: '참쥐포', 904: '튀김쥐포', 905: '한치', 906: '아귀포', 907: '김말이튀김', 908: '고구마치즈스틱', 909: '30cm마약치즈돈까스', 910: '양념순살치킨', 911: '순살치킨', 912: '불꽃오징어', 913: '통통군만두', 914: '왕새우튀김&볼', 915: '양념감자튀김', 916: '할멘보샤', 917: '뼈닭한마리', 918: '맛있는윙만', 919: '순살한마리', 920: '맛있는봉만', 921: '콤보쌀국수', 922: '맛있는다리만', 923: '미니쫀득볼', 924: '윙봉세트', 925: '텐더파불로', 926: '텐더콘소메이징', 927: '텐더고추마요', 928: '텐더후레이크', 929: '제너럴핫윙콤보', 930: '순살제너럴핫', 931: '제너럴핫치킨', 932: '리얼후라이드', 933: '리얼후리이드순살', 934: '소고기모듬한마리', 935: '두마리', 936: '한마리통닭', 937: '똥집튀김', 938: '두마리통닭', 939: '닭발튀김', 940: '후라이드', 941: '무뼈매운닭발념볶음', 942: '간장/양념/사천/치즈', 943: '뼈닭강정', 944: '치즈막대감자', 945: '훈제치킨', 946: '가마치즈볼', 947: '닭껍질튀김', 948: '가마치오뎅탕', 949: '미니소떡소떡', 950: '모듬마른안주', 951: '미니텐더', 952: '삼계탕', 953: '한마리통닭+소떡(2개)', 954: '한마리통닭+치즈볼(5개)', 955: '반반콤보', 956: '한마리통닭+똥집', 957: '두마리통닭+똥집+소떡(4개)', 958: '소주/병맥주', 959: '썬더모듬세트', 960: '크리스피치킨', 961: '썬더윙', 962: '모래집튀김', 963: '양념치킨', 964: '크리스피치킨+포테이토', 965: '봉', 966: '포테이토피자', 967: '매운봉', 968: '새우링', 969: '크리스피치킨+모래집튀김', 970: '파닭치킨', 971: '고로케', 972: '순살양념치킨', 973: '양념치킨+포테이토', 974: '땡초치킨', 975: '순살간장치킨', 976: '깐풍치킨', 977: '순살마늘치킨', 978: '양념치킨+모래집튀김', 979: '불닭치즈', 980: '순살파닭치킨', 981: '통구이', 982: '순살3종세트', 983: '순살땡초치킨', 984: '찜닭', 985: '순살깐풍치킨', 986: '냉삼(냉동삼겹살)', 987: '명품생삼겹살', 988: '한우특수부위', 989: '홍합오뎅탕', 990: '버팔로스틱윙봉', 991: '바싹쥐포튀김', 992: '파인샤베트', 993: '반/반메뉴', 994: '깐풍', 995: '양념', 996: '간장치킨', 997: '세가지맛치킨', 998: '콜라,사이다', 999: '순살변경', 1000: '후라이드똥집', 1001: '생감자추가', 1002: '깐풍/간장/양념', 1003: '깐풍똥집', 1004: '간장똥집튀김', 1005: '양념똥집튀김', 1006: '와사비크래미달콤초밥', 1007: '나초명란반반돈까스', 1008: '참치마요햄치즈초밥', 1009: '달콤계란햄치즈초밥', 1010: '미상유부', 1011: '미상유부+토핑', 1012: '유부토핑,토핑', 1013: '가라아게', 1014: '치킨참치마요초밥', 1015: '파인애플햄치즈초밥', 1016: '대패삼겹살', 1017: '돼지보쌈+어리굴젓', 1018: '통돼지두루치기', 1019: '녹두반대떡', 1020: '숯불돼지갈비', 1021: '소갈비살', 1022: '돼지껍데기', 1023: '숯불양념구이무한리필', 1024: '숯불고추장불고기', 1025: '한양생삼겹', 1026: '옛날도시락', 1027: '시골된장찌개', 1028: '깍뚝목살', 1029: '차돌라면', 1030: '한양소갈비살', 1031: '매화수', 1032: '스탠다드뷔페', 1033: '프리미엄뷔페', 1034: '미취학아동', 1035: '초등학생', 1036: '브라운버터스테이크', 1037: '브래드스틱', 1038: '베이컨치즈스틱', 1039: '더블초코칩브라우니', 1040: '코카-콜라', 1041: '코카-콜라제로', 1042: '미닛메이드오렌지', 1043: '고구마', 1044: '리치골드', 1045: '포테이토골드', 1046: '쉬림프리치골드', 1047: '치즈바이트', 1048: '올토핑', 1049: '스파게티', 1050: '윙', 1051: '치즈추가', 1052: '훈제바베큐', 1053: '차돌마라탕면', 1054: '트리플볶음밥', 1055: '차우멘', 1056: '마라상궈', 1057: '차알미엔', 1058: '돼지김치찌개', 1059: '돼지양념구이', 1060: '삼치구이', 1061: '에그타르트', 1062: '자몽타르트', 1063: '오레오타르트', 1064: '요거트타르트', 1065: '레몬머랭타르트', 1066: '함박오므라이스', 1067: '로제치킨오므라이스', 1068: '연아밥', 1069: '직화삼겹살덮밥', 1070: '어린이계란밥', 1071: '차돌교장떡볶이', 1072: '깻잎반장떡볶이', 1073: '떡볶이튀김순대', 1074: '코다리회냉면', 1075: '장칼국수', 1076: '차슈동', 1077: '단바쿠라멘', 1078: '아까라멘', 1079: '가츠동', 1080: '마제면', 1081: '쉬림프로제파스타', 1082: '쉬림프불닭크림파스타', 1083: '쭈구미덮밥', 1084: '갈릭볼케이노라이스', 1085: '크림새우', 1086: '자몽주스', 1087: '청포도한송이', 1088: '레몬에이드', 1089: '모히또', 1090: '홍수치즈돈까스', 1091: '우동or냉모밀', 1092: '우삼겹김치덮밥', 1093: '크림쉬림프볶음밥', 1094: '하와이안스테이크', 1095: '삼겹살스테이크', 1096: '큐브스테이크', 1097: '제로콜라', 1098: '미린다', 1099: '양념감자', 1100: '롱치즈스틱', 1101: '치킨너켓', 1102: '쉑쉑치킨', 1103: '웨지포테이토', 1104: '모짜크림치즈볼', 1105: '베이컨치즈버거', 1106: '프랭크버거', 1107: '쉬림프버거', 1108: '치즈버거', 1109: '더블치즈버거', 1110: '머쉬룸버거', 1111: 'JG버거', 1112: '핫크리스피치킨', 1113: '오리지널치킨', 1114: '블랙라벨치킨', 1115: '콘찡어바이트', 1116: '아건코스A', 1117: '런치세트', 1118: '아건런치세트', 1119: '아건코스B', 1120: '아건코스C', 1121: '치킨앤베지', 1122: '포메인깐풍기', 1123: '반세오', 1124: '반컷', 1125: '반세오세트', 1126: '반컷세트', 1127: '분더우맘떰', 1128: '냉채무뼈닭발', 1129: '냄란', 1130: '망고', 1131: '스프링롤', 1132: '망고쉬림프샐러드', 1133: '치킨샐러드', 1134: '반권', 1135: '보더샘플러', 1136: '보더윙', 1137: '엠파나다', 1138: '구아카몰라이브', 1139: '허니치폴레쉬림프', 1140: '빅플래터', 1141: '퀘소볼', 1142: '사워크림추가', 1143: '화이타치킨', 1144: '타코미트', 1145: '아보카도', 1146: '피코데가요', 1147: '프리타스피쉬&칩스', 1148: '구아카몰볼', 1149: '후라이드비프누들', 1150: '타이칠리누들', 1151: '분보싸오', 1152: '치킨팟타이', 1153: '쉬림프팟타이', 1154: '소고기볶음밥', 1155: '파인애플볶음밥', 1156: '검스언', 1157: '스페샬코스', 1158: '특스페샬', 1159: '주방장특선', 1160: '혼마구로', 1161: '한사라', 1162: '랍스타버터구이', 1163: '초밥', 1164: '랍스타라면', 1165: '구르카프라이드치킨', 1166: '빠니르파코라', 1167: '야채파코라', 1168: '사모사차트', 1169: '마살라파파드', 1170: '후렌치프라이', 1171: '사모사', 1172: '만츄리안', 1173: '알루찹', 1174: '미트볼', 1175: '매운소고기쌀국수', 1176: '튀긴스프링롤', 1177: '해산물볶음쌀국수', 1178: '갈비쌀국수', 1179: '돼지고기공심채덮밥', 1180: '베트남샌드위치', 1181: '돼지고기', 1182: '햄&바베큐포크', 1183: '왕갈비쌀국수', 1184: '해물쌀국수', 1185: '소곱창쌀국수', 1186: '바베큐볶음밥', 1187: '새우완탕면', 1188: '차우메인', 1189: '토마토계란밥', 1190: '차우펀', 1191: '바베큐세트', 1192: '마라세트', 1193: '이반추얼리레드', 1194: '연태구냥', 1195: '이반추얼리그린', 1196: '진로이즈백', 1197: '상하이볼', 1198: '처음처럼', 1199: '꿔추이', 1200: '베리보드카', 1201: '페니실린', 1202: '양하대곡', 1203: '스텔라생맥주', 1204: '국수주', 1205: '제갈량', 1206: '롱케이비치', 1207: '자약(공부가주)', 1208: '오량두곡', 1209: '토닉워터', 1210: '탄산수', 1211: '주지앙', 1212: '고량주샘플러', 1213: '옌징', 1214: '칭다오', 1215: '치즈베이컨파스타', 1216: '자이언트치즈미트볼파스타', 1217: '칠리미트파스타', 1218: '칠리미트라이스', 1219: '해물잠발라야', 1220: '치킨돈까스카레라이스', 1221: '감바스+바게트', 1222: '바베큐백립/감자튀김', 1223: '자이언트함박스테이크/감자튀김', 1224: '슈바인학센', 1225: '소시지,감자튀김+커리소스', 1226: '순살치킨앤칩스', 1227: '등심돈까스와커리', 1228: '바게트', 1229: '라이스', 1230: '맥앤치즈', 1231: '나초', 1232: '코울슬로새러드', 1233: '고다치즈', 1234: '간장계란밥', 1235: '식혜', 1236: '제주착즙주스', 1237: '카레추가', 1238: '감귤', 1239: '천혜향', 1240: '한라봉', 1241: '짜조', 1242: '치즈시즈닝감자튀김', 1243: '샘플러', 1244: '치킨샐러드파스타', 1245: '포크샐러드파스타', 1246: '비프샐러드파스타', 1247: '연근멘보샤', 1248: '어향표고새우', 1249: '마늘새우찜', 1250: '칠리중새우', 1251: '깐풍중새우', 1252: '호두꿀크림중새우', 1253: '비풍당중새우', 1254: '동파육', 1255: '고기튀김', 1256: '북경식탕수육', 1257: '광동식탕수육', 1258: '사천식탕수육', 1259: '라조육', 1260: '깐풍기', 1261: '라조기', 1262: '유린기', 1263: '라즈지', 1264: '짜장밥', 1265: '짜장', 1266: '짬뽕밥', 1267: '간짜장', 1268: '삼선짬뽕밥', 1269: '삼선간짜장', 1270: '해물쟁반짜장', 1271: '잡채밥', 1272: '짬뽕', 1273: '삼선짬뽕', 1274: '마파두부밥', 1275: '유산슬밥', 1276: '삼선우동', 1277: '울면', 1278: '잡탕밥', 1279: '군만두', 1280: '삼선울면', 1281: '굴짬뽕', 1282: '굴짬뽕밥', 1283: '등심탕수육+짜장2인', 1284: '등심탕수육+짜장+짬뽕', 1285: '등심탕수육+짬뽕2인', 1286: '등심탕수육+해물쟁반짜장2인', 1287: '칠리중새우+짜장+짬뽕', 1288: '깐풍기+짜장+짬뽕', 1289: '팔보채+양장피', 1290: '탕수육+칠리탕수육', 1291: '탕수육+팔보채', 1292: '불타는짬뽕', 1293: '탕수육+크림탕수육', 1294: '삼선술국', 1295: '차돌짬뽕', 1296: '탕수육+고추잡채', 1297: '탕수육+양장피', 1298: '탕수육+깐풍기', 1299: '삼선백짬뽕', 1300: '삼선볶음짬뽕', 1301: '깐풍기+팔보채', 1302: '깐쇼새우+팔보채', 1303: '탕수육+숯불구이', 1304: '짬짜면', 1305: '삼선볶음', 1306: '고추잡채밥', 1307: '미니깐쇼+삼선짬뽕', 1308: '미니탕수육+삼선짬뽕', 1309: '볶짬면', 1310: '미니깐쇼+차돌짬뽕', 1311: '미니탕수육+차돌짬뽕', 1312: '복짜면', 1313: '미나깐쇼+볶음밥', 1314: '탕수육+볶음밥', 1315: '탕짬면', 1316: '미니깐쇼+쟁반짜장', 1317: '탕짜면', 1318: '탕수육+쟁반짜장', 1319: '삼선볶음짬뽕덮밥', 1320: '탕볶밥', 1321: '미니깐쇼+삼선볶음짬뽕', 1322: '탕수육+삼선볶음짬뽕', 1323: '칠리탕짜면', 1324: '미니깐쇼+간짜장', 1325: '탕수육+간짜장', 1326: '칠리탕짬면', 1327: '미니깐쇼+짬뽕', 1328: '미니탕수육+짬뽕', 1329: '칠리탕볶밥', 1330: '삼선볶음밥', 1331: '미니깐쇼+삼선짬뽕밥', 1332: '미니탕수육+삼선짬뽕밥', 1333: '덮밥+짜장', 1334: '미니깐쇼+차돌짬뽕밥', 1335: '탕수육+차돌짬뽕밥', 1336: '덮밥+짬뽕', 1337: '특밥', 1338: '미니깐쇼+짜장', 1339: '덮밥+탕수육', 1340: '미니탕수육+짜장', 1341: '크림탕수육세트+짜장+군만두', 1342: '깐쇼새우세트+짜장+군만두', 1343: '양장피+짜장+군만두', 1344: '탕수육+짜장+군만두', 1345: '팔보채+짜장+군만두', 1346: '크림탕수육세트+짜장+짬뽕+군만두', 1347: '깐쇼세우세트+짜장+짬뽕+군만두', 1348: '탕수육+짜장+짬뽕+군만두', 1349: '고추잡채+짜장+군만두', 1350: '크림탕수육세트+짬뽕+군만두', 1351: '깐쇼새우세트+짬뽕+군만두', 1352: '탕수육+짬뽕+군만두', 1353: '깐풍기+짜장+군만두', 1354: '크림탕수육세트+쟁반+군만두', 1355: '깐쇼새우세트+쟁반+군만두', 1356: '유산슬+짜장+군만두', 1357: '탕수육+쟁반짜장+군만두', 1358: '등심탕수육', 1359: '고추잡채', 1360: '고추장탕수육', 1361: '삼선짬뽕술국', 1362: '차돌짬뽕술국', 1363: '칠리새우', 1364: '크림마요새우', 1365: '참이슬후레쉬', 1366: '맥주(테라)', 1367: '냉채', 1368: '삼품냉채', 1369: '해파리냉채', 1370: '오향장육', 1371: '양장피', 1372: '홍소전복', 1373: '홍소해삼', 1374: '해삼주스', 1375: '전가복', 1376: '홍소관자', 1377: '깐풍관자', 1378: '깐풍굴', 1379: '관자고추볶음', 1380: '해물누룽지', 1381: '깐쇼중새우', 1382: '깐쇼새우', 1383: '깐풍새우', 1384: '팔보채', 1385: '류산슬', 1386: '라조복어', 1387: '탕수육', 1388: '마라향귀(소고기/양고기선택)', 1389: '향라육사', 1390: '경장육사', 1391: '계란부추볶음', 1392: '소고기오이무침', 1393: '점심A코스', 1394: '점심B코스', 1395: '점심세트', 1396: '모둠전채', 1397: '오향장육해파리냉채', 1398: '게살수프', 1399: '매생이해물수프', 1400: '해물두부수프', 1401: '홍식초산라탕', 1402: '유니짜장면', 1403: '크림중새우', 1404: '상하이에이드', 1405: '명장짜장면', 1406: '짬뽕/짬뽕밥', 1407: '수제멘보샤', 1408: '명장짜장밥', 1409: '소고기짬뽕/소고기짬뽕밥', 1410: '중화냉면', 1411: '깐풍육', 1412: '짜장면', 1413: '야채새우볶음밥', 1414: '김치채덮밥', 1415: '쟁반짜장', 1416: '고추잡채덮밥', 1417: '기스면', 1418: '오징어잡채밥', 1419: '오뎅덮밥', 1420: '오뎅짬뽕', 1421: '라조육밥', 1422: '볶음짬뽕', 1423: '버섯탕', 1424: '콩나물짬뽕', 1425: '버섯특밥', 1426: '삼선고추짬뽕', 1427: '누룽지탕', 1428: '숙주차돌짬뽕', 1429: '잡채', 1430: '잡탕', 1431: '볶음밥반+짬뽕반', 1432: '볶음밥반+짜장반', 1433: '고량주', 1434: '이가도주', 1435: '탕수육+짜장2', 1436: '탕수육+짬뽕+짜장', 1437: '탕수육+쟁반짜장2', 1438: '군만두+짜장2', 1439: '군만두+짬뽕', 1440: '술국', 1441: '송이덮밥', 1442: '쟁반짬뽕', 1443: '삼선누룽지', 1444: '쟁반짜장밥', 1445: '제육덮밥', 1446: '홍합짬뽕', 1447: '고추짬뽕', 1448: '홍합우동', 1449: '사천탕수육', 1450: '삼선짜장', 1451: '유산슬', 1452: '볶짜면', 1453: '육개장', 1454: '성인', 1455: '소인', 1456: '불짜장', 1457: '향도장특면', 1458: '우삼겹짬뽕', 1459: '탕짜(짬)면', 1460: '매운짬뽕', 1461: '백짬뽕', 1462: '멘보샤', 1463: '고추짜장', 1464: '고추짬뽕밥', 1465: '탕짜밥', 1466: '탕짬밥', 1467: '홍콩꽃빵', 1468: '국산맥주', 1469: '만만춘', 1470: '산지천', 1471: '중국음료', 1472: '마라탕', 1473: '토마토계란덮밥', 1474: '마라반', 1475: '마라샹궈', 1476: '꼬치류', 1477: '어항육슬', 1478: '샤오롱바오', 1479: '소고기', 1480: '꽃빵튀김', 1481: '양고기', 1482: '향라새우', 1483: '칭다오맥주', 1484: '콜라/사이다', 1485: '해물특밥', 1486: '가지덮밥', 1487: '고추덮밥', 1488: '게살볶음밥', 1489: '수제비짬뽕밥', 1490: '낙지전복짬뽕', 1491: '백짬뽕밥', 1492: '곱배기', 1493: '차돌짬뽕밥', 1494: '낙지전복짬뽕밥', 1495: '홍홍우육전골', 1496: '계란면추가', 1497: '야채추가', 1498: '우육마라탕', 1499: '당면추가', 1500: '와사비크림새우', 1501: '마라닭날개', 1502: '통통탕수육', 1503: '백합조개볶음', 1504: '참깨볼', 1505: '팝콘치킨', 1506: '유탸오', 1507: '파전병', 1508: '날치알', 1509: '메로구이', 1510: '생선머리구이or조림', 1511: '산토리하이볼', 1512: '대관대포', 1513: '대관도쿠리', 1514: '판모밀', 1515: '월계관더컵', 1516: '오니레이슈', 1517: '나마죠조', 1518: '초밥정식', 1519: '특초밥정식', 1520: '일식정찬', 1521: '오니', 1522: '센노유메', 1523: '초밥사시미세트', 1524: '마루', 1525: '카라구치잇콘', 1526: '특초밥사시미세트', 1527: '와카바사시미세트', 1528: '저녁특선', 1529: '간바레오또상', 1530: '월계관준마이다이긴죠', 1531: '백세주', 1532: '참치정식', 1533: '특정식', 1534: '스페셜정식', 1535: '골드정식', 1536: '참치초밥', 1537: '모둠초밥', 1538: '오도로초밥', 1539: '관동식스끼야끼', 1540: '토리나베', 1541: '나가사끼짬뽕나베', 1542: '가케/붓가케면추가', 1543: '홍제우동(가케우동)온', 1544: '자루우동냉', 1545: '김치우동온', 1546: '오뎅우동온', 1547: '카레우동온', 1548: '생대구탕', 1549: '생대구지리', 1550: '알고니탕', 1551: '알대구탕', 1552: '알탕', 1553: '대구지리', 1554: '특회덮밥', 1555: '회덮밥', 1556: '알밥', 1557: '옥수수콘', 1558: '튀김', 1559: '모둠회', 1560: '치즈김치나베', 1561: '마약계란', 1562: '냉소바', 1563: '모듬야키토리', 1564: '슈토크림치즈', 1565: '소고기타다키', 1566: '바지락술찜', 1567: '쥬쥬(지글지글)야끼', 1568: '차돌숙주볶음', 1569: '참깨소스삼겹냉샤브', 1570: '장어숯불구이', 1571: '치즈오꼬노미야끼', 1572: '야끼소바', 1573: '매운가라아게', 1574: '오징어먹물가라아게', 1575: '모듬고로케', 1576: '모로미치킨남방', 1577: '타코가라아게', 1578: '크림에비마요', 1579: '차돌우동스키나베', 1580: '창꼬나베', 1581: '오뎅나베', 1582: '나가사키나베', 1583: '차돌박이탄탄나베', 1584: '차돌오뎅매콤나베', 1585: '탄탄면', 1586: '차돌박이우동', 1587: '카레라이스', 1588: '돈가츠카레', 1589: '비빔소바', 1590: '새우튀김우동', 1591: '에비카레', 1592: '문어초회', 1593: '연어샐러드', 1594: '연두부샐러드', 1595: '은행&마늘꼬치', 1596: '돈까스정식', 1597: '돈까스알밥우동세트', 1598: '생선까스정식', 1599: '치즈돈까스정식', 1600: '묵호모듬사시미', 1601: '스페셜세트', 1602: '세꼬시', 1603: '전복회', 1604: '특참치회', 1605: '고등어', 1606: '모듬초밥', 1607: '냉메밀', 1608: '특초밥', 1609: '전복죽', 1610: '전복1마리추가', 1611: '가오리찜', 1612: '곤이+알', 1613: '양푼이모듬탕', 1614: '서더리탕(곤이)', 1615: '회정식1인', 1616: '특선초밥', 1617: 'Special초밥', 1618: '생선초밥', 1619: '광어초밥', 1620: '연어초밥', 1621: '새우모둠초밥', 1622: '왕새우초밥', 1623: '화한우(채끝)초밥5p+광어초밥5p', 1624: '화한우(채끝)초밥5p+연어초밥5p', 1625: '광어초밥+참치초밥', 1626: '광어초밥+연어초밥', 1627: '광어초밥+왕새우초밥', 1628: '자이언트연어롤', 1629: '더블쉬림프', 1630: '스파이시참치롤', 1631: '자이언트연어롤+더블쉬림프롤4p', 1632: '크림치즈연어롤', 1633: '사카나우동', 1634: '눈꽃고로케', 1635: '초밥+튀김+우동', 1636: '모둠사시미', 1637: '이대헌스시', 1638: '특모듬사시미', 1639: '스모크스시', 1640: '이대헌스페셜사시미', 1641: '특모듬초밥', 1642: '참치사시미', 1643: '연어사시미', 1644: '사시미', 1645: '도미초밥', 1646: 'VIP초밥', 1647: '찌라시', 1648: '연어찌라시', 1649: '특모듬찌라시', 1650: '등심돈카츠', 1651: '안심돈카츠', 1652: '모듬돈카츠', 1653: '치즈돈카츠', 1654: '등심돈카츠_우동정식', 1655: '돈카츠우동정식', 1656: '치즈돈카츠우동정식', 1657: '안심돈카츠+우동정식', 1658: '냉메밀면변경', 1659: '우삼겹우동', 1660: '카케우동', 1661: '일본고토우동', 1662: '치킨가라아게', 1663: '메밀면', 1664: '자루우동/소면', 1665: '자루메밀면', 1666: '냉메밀면', 1667: '온우동', 1668: '진가와메밀면', 1669: '냉소면', 1670: '카레덮밥', 1671: '등심카츠동', 1672: '안심카츠동', 1673: '규동', 1674: '카츠샌드', 1675: '오야코동', 1676: '진가와소면', 1677: '날치알군함', 1678: '타마고', 1679: '청어구이', 1680: '문어', 1681: '대방어', 1682: '아지', 1683: '엔가와초밥', 1684: '시마아지초밥', 1685: '시메사바', 1686: '학꽁치', 1687: '유데에비(찜새우)초밥', 1688: '피조개', 1689: '북방조개', 1690: '아미에비(단새우)초밥', 1691: '가리비관자', 1692: '혼마구로아카미초밥', 1693: '혼마구로쥬도로초밥', 1694: '혼마구로오도로초밥', 1695: '연어아부리초밥', 1696: '혼마구로오도로아부리초밥', 1697: '한우++채끝살아부리초밥', 1698: '이꾸라군함초밥', 1699: '전복', 1700: '우니군함초밥', 1701: '보탄에비초밥', 1702: '서더리탕', 1703: '오야꼬동', 1704: '까츠동', 1705: '연어덮밥', 1706: '단품회덮밥(연어,광어,참치중택1)', 1707: '가이세키동', 1708: '오마카세디너벤또', 1709: '해물우동', 1710: '우동세트(스시2pcs,롤4pcs,모듬튀김)', 1711: '냉우동', 1712: '더블가츠동', 1713: '더블가츠가라아게동', 1714: '에비동', 1715: '가라아게동', 1716: '가츠가라아게동', 1717: '믹스가츠동', 1718: '미니전(매운맛)', 1719: '신돼지껍데기아부라소바', 1720: '신아부라소바', 1721: '마제소바', 1722: '레드락생맥주', 1723: '와구떡갈비', 1724: '참치5종', 1725: '갓덴스페셜7종', 1726: '인기3종', 1727: '키자미와사비3종', 1728: '연어5종', 1729: '불에구운3종', 1730: '유자고추3종', 1731: '특선5종', 1732: '소떡소떡', 1733: '아이스황도', 1734: '닭껍데기튀김', 1735: '뼈추가', 1736: '소곱창추가', 1737: '소내장추가', 1738: '소머리추가', 1739: '감자수제비', 1740: '감자사리', 1741: '우거지사리', 1742: '수제돈가스', 1743: '떡갈비', 1744: '이즈백', 1745: '뽀로로음료', 1746: '쭈꾸미볶음', 1747: '쭈꾸미왕자세트', 1748: '쭈꾸미공주세트', 1749: '쭈꾸미킹세트', 1750: '쭈꾸미퀸세트', 1751: '코다리조림', 1752: '코다리피자세트', 1753: '코다리피자연어세트', 1754: '평양냉명(물냉면|비빔냉면)', 1755: '떡사리', 1756: '산사춘', 1757: '아구찜', 1758: '해물찜', 1759: '단호박아구찜', 1760: '단호박해물찜', 1761: '모듬찜', 1762: '쭈꾸미사리', 1763: '아구사리', 1764: '볶음밥추가', 1765: '미더덕', 1766: '낙지사리', 1767: '공기밥추가', 1768: '콩나물', 1769: '고니사리', 1770: '창고43세트', 1771: '와인세트', 1772: '양념고기생각세트', 1773: '킹콩부대찌개', 1774: '섞어부대찌개', 1775: '우삽겹부대찌개', 1776: '햄가득부대찌개', 1777: '두부사리', 1778: '우삼겹사리', 1779: '햄사리', 1780: '모둠사리', 1781: '넙적당면사리', 1782: '누들밀떡사리', 1783: '물만두사리', 1784: '물회', 1785: '전복사시미', 1786: '활어초밥', 1787: '모둠새우튀김', 1788: '모둠해산물', 1789: '성게물회', 1790: '어린이돈까스', 1791: '온면', 1792: '칼국수', 1793: '사골만두국', 1794: '송정식', 1795: '채식정식', 1796: '김치어묵탕', 1797: '하얀순두부탕', 1798: '해쉬브라운', 1799: '수제왕꽈배기', 1800: '불닭오뎅튀김', 1801: '로하이팝콘', 1802: '불고기', 1803: '진갈비살', 1804: '우륵꽃갈비', 1805: '우륵불갈비', 1806: '우륵살', 1807: '우륵국밥', 1808: '왕계란찜', 1809: '냉면(물냉/비냉)', 1810: '골뱅이소면', 1811: '루꼴라불고기피자', 1812: '국물닭발', 1813: '고르곤졸라피자', 1814: '눈꽃치즈추가', 1815: '후라이드치킨or뿌링치킨', 1816: '마약국물떡볶이', 1817: '과일', 1818: '버팔로봉+새우튀김', 1819: '오코노미계란말이', 1820: 'only소세지볶음', 1821: '통소세지+감튀', 1822: '쥐포', 1823: '츄러스+감튀', 1824: '중독감자튀김', 1825: '타코야끼', 1826: '짜라볶이', 1827: '아이스크림튀김', 1828: '소갈비찜', 1829: '닭발', 1830: '쭈꾸미정식', 1831: '쭈삼겹볶음', 1832: '쭈삼겹정식', 1833: '새우얼큰라면', 1834: '쭈새우', 1835: '치즈퐁듀', 1836: '날치알주먹밥', 1837: '떡', 1838: '쭈차돌', 1839: '햄치즈계란말이', 1840: '치즈사리', 1841: '감자채전', 1842: '모듬구이', 1843: '양곱창', 1844: '소곱창', 1845: '양막창', 1846: '막창', 1847: '양대창', 1848: '매운등갈비찜', 1849: '육회추가', 1850: '염통추가', 1851: '오징어짬뽕라면', 1852: '양밥', 1853: '완도전복죽', 1854: '삼계전복죽', 1855: '특전복죽', 1856: '참치야채죽', 1857: '소고기야채죽', 1858: '굴버섯죽', 1859: '콩나물낙지죽', 1860: '육개장죽', 1861: '영양들깨죽', 1862: '야채죽', 1863: '삼계죽', 1864: '크림치즈소고기죽', 1865: '해물죽', 1866: '새우야채죽', 1867: '빨간낙지죽', 1868: '참치죽', 1869: '김치굴죽', 1870: '소고기미역죽', 1871: '녹두삼계죽', 1872: '불닭죽', 1873: '불짬뽕죽', 1874: '소고기카레죽', 1875: '게살브로컬리치즈죽', 1876: '게살누룽지죽', 1877: '매생이굴죽', 1878: '잣죽', 1879: '흑임자죽', 1880: '녹두죽', 1881: '팥죽', 1882: '호박죽', 1883: '뚝배기육개장밥', 1884: '해물뚝배기밥', 1885: '새우뚝배기밥', 1886: '날치알뚝배기밥', 1887: '돼지갈비', 1888: '냉국수', 1889: '임연수구이', 1890: '홍어삼합', 1891: '동태탕', 1892: '오삼불고기', 1893: '홍어사시미', 1894: '홍어무침', 1895: '갈치조림', 1896: '홍어애탕', 1897: '고등어조림', 1898: '개인솥밥추가주문시', 1899: '홍어고기추가', 1900: '지평막걸리', 1901: '장수막걸리', 1902: '야채족발', 1903: '매운갈비찜', 1904: '주꾸미볶음', 1905: '간장갈비찜', 1906: '매운치즈갈비찜', 1907: '대하', 1908: '밥볶음', 1909: '갈비꽃살', 1910: '소막창', 1911: '활전복', 1912: '횡성더덕', 1913: '오소리감투', 1914: '머리고기', 1915: '찹쌀순대', 1916: '전복오골계탕', 1917: '산삼전복오골계탕', 1918: '오골계탕', 1919: '산삼오골계탕', 1920: '전복삼계탕', 1921: '산삼전복삼계탕', 1922: '산삼삼계탕', 1923: '고려통닭', 1924: '의정부부대찌개', 1925: '의정부부대찌개전골', 1926: '호산나뚝배기불고기', 1927: '쭈꾸미철판볶음', 1928: '햄,소세지김치찌개', 1929: '한우소고기돌미역국정찬', 1930: '고등어구이정찬', 1931: '가자미돌미역국정찬', 1932: '모듬생선구이정찬', 1933: '전복돌미역국정찬', 1934: '병어조림정찬', 1935: '옛맛부대찌개', 1936: '통핑세트', 1937: '놀부세트', 1938: '제육구이', 1939: '삼겹김치두루치기', 1940: '불두루치기', 1941: '돼지감자짜글이', 1942: '간장두루치기', 1943: '김치추가', 1944: '우삼겹된장짜글이', 1945: '햄마니부대찌개', 1946: '두루치기/불고기치즈추가', 1947: '동태찌개', 1948: '정식세트', 1949: '2인정식세트', 1950: '3인정식세트', 1951: '4인정식세트', 1952: '감자탕', 1953: '등뼈찜', 1954: '뼈해장국', 1955: '짝꿍세트', 1956: '친구세트', 1957: '가족세트', 1958: '한입가득세트', 1959: '입안의행복세트', 1960: '나가사키짬뽕', 1961: '간장새우장', 1962: '한우곰탕', 1963: '한우불고기', 1964: '특곰탕', 1965: '한우로스구이', 1966: '내장전골', 1967: '반수육', 1968: '잔술', 1969: '야채김밥', 1970: '김치김밥', 1971: '불고기김밥', 1972: '도시락', 1973: '해물된장찌개', 1974: '해물순두부찌개', 1975: '참치김치찌개', 1976: '돼지고기김치찌개', 1977: '송탄부대찌개', 1978: '뚝배기불고기', 1979: '콩나물국밥', 1980: '굴국밥', 1981: '돌솥변경시', 1982: '메밀전병', 1983: '모둠만두', 1984: '왕만두', 1985: '메밀전', 1986: '편육', 1987: '순대한접시', 1988: '고기순대국밥', 1989: '오소리국밥', 1990: '순대정식', 1991: '국밥머리고기주가', 1992: '야채/당면/셀프볶음밥추가', 1993: '냉동삼겹', 1994: '오징어덮밥', 1995: '버섯불고기', 1996: '불고기백반', 1997: '닭볶음탕', 1998: '닭볶음탕(반마리)', 1999: '산낙지초무침', 2000: '아구찜/탕', 2001: '산낙지숙회', 2002: '연포탕', 2003: '산낙지회', 2004: '산낙지찜/볶음', 2005: '꼬막무침', 2006: '아구탕', 2007: '생대구탕/지리', 2008: '꼬막덮밥', 2009: '생돼지김치찌개', 2010: '녹돈생삼겹살', 2011: '녹돈대패삼겹살', 2012: '생돼지김치두루치기', 2013: '생돼지불고기', 2014: '매콤한콩나물뼈찜', 2015: '간장양념뼈찜', 2016: '해물뼈찜', 2017: '뼈다귀추가', 2018: '우거지', 2019: '감자', 2020: '3개(우거지+야채)', 2021: '4개(우거지+야채)', 2022: '목삼겹', 2023: '김치삼겹살', 2024: '닭튀김', 2025: '문어튀김', 2026: '스팸구이', 2027: '대접밥', 2028: '김', 2029: '라면/만두/두부', 2030: '꽁치사리', 2031: '김치찜추가', 2032: '스팸부대사리', 2033: '막국수(물/비빔)', 2034: '멸치쌀국수', 2035: '스팸볶음밥', 2036: '된장찌개추가', 2037: '일식코스', 2038: '카이센동', 2039: '스키야끼', 2040: '챠슈동', 2041: '타츠타아게동', 2042: '꽃등심', 2043: '생등심', 2044: '안창살', 2045: '불고기전골', 2046: '세트소', 2047: '세트중', 2048: '세트대', 2049: '보달라(보통+달걀말이+라면사리)', 2050: '중달라(중간+달걀말이+라면사리)', 2051: '곱달라(곱배기+달걀말이+라면사리)', 2052: '염소탕', 2053: '사철탕', 2054: '염소수육', 2055: '염소무침', 2056: '염소전골', 2057: '무침', 2058: '옻닭', 2059: '백숙', 2060: '한방오리', 2061: '한우투뿔꽃등심', 2062: '샤브샤브', 2063: '제주오겹살', 2064: '양푼김치찌개', 2065: '소와규갈비살', 2066: '메밀막국수', 2067: '진짜돼지갈비', 2068: '버섯생불고기', 2069: '청국장', 2070: '참치김치', 2071: '열무국수', 2072: '짜글이', 2073: '순두부', 2074: '김치말이국수', 2075: '열무냉면', 2076: '꽁치김치찌개', 2077: '열무비빔밥', 2078: '콩비지찌개', 2079: '남도정식', 2080: '남도특정식', 2081: '보리굴비정식', 2082: '순대곱창볶음', 2083: '백순대볶음', 2084: '불순대곱창볶음', 2085: '오징어백순대', 2086: '찰순대', 2087: '오징어순대', 2088: '순대국', 2089: '해신탕', 2090: '한식뷔페', 2091: '다슬기해장국', 2092: '옻오리/토종닭백숙', 2093: '생오겹살', 2094: '생돼지제육볶음', 2095: '토종닭/오리볶음탕', 2096: '오리로스', 2097: '면사리', 2098: '소머리수육', 2099: '소머리국밥', 2100: '닭백숙', 2101: '모듬', 2102: '고기만', 2103: '순대만', 2104: '두부조림', 2105: '내장탕', 2106: '순대볶음', 2107: '살로만순대국', 2108: '허파볶음', 2109: '닭곰탕', 2110: '통돼지김치두루찌개', 2111: '제육직화+찌개+계란찜', 2112: '뼈다귀해장국', 2113: '보쌈', 2114: '제육직화구이', 2115: '두부', 2116: '오양', 2117: '까페김밥', 2118: '김치칼국수', 2119: '치즈돈가스', 2120: '얼큰칼국수', 2121: '고구마돈까스', 2122: '피망김밥', 2123: '생선까스', 2124: '고추김밥', 2125: '김치수제비', 2126: '치킨까스', 2127: '샐러드김밥', 2128: '카레돈가스', 2129: '얼큰수제비', 2130: '스파게티돈가스', 2131: '날치알김밥', 2132: '멸추집밥', 2133: '쫄돈(돈가스+밥+쫄면)', 2134: '샐러드치즈김밥', 2135: '돈가스김밥', 2136: '우돈(돈가스+밥+우동)', 2137: '검은콩국수', 2138: '고추참치김밥', 2139: '모돈(돈가스+밥+모밀)', 2140: '피망날치알김밥', 2141: '라돈(돈가스+밥+라면)', 2142: '새우튀김김밥', 2143: '정식1(돈가스+김밥+쫄면)', 2144: '모듬김밥', 2145: '정식2(돈가스+참치김밥+우동)', 2146: '돈가스치즈김밥', 2147: '정식3(돈가스+날치알김밥+모밀)', 2148: '치즈계란말이김밥', 2149: '김치오므라이스', 2150: '카레오므라이스', 2151: '김치라면', 2152: '쫄면떡볶이', 2153: '돈가스오므라이스', 2154: '콩나물라면', 2155: '치즈라볶이', 2156: '닭갈비오므라이스', 2157: '치즈라면', 2158: '치즈쫄볶이', 2159: '불고기오므라이스', 2160: '스파게티오므라이스', 2161: '짜짜라면', 2162: '김치덮밥', 2163: '짬뽕라면', 2164: '돌솥알밥', 2165: '냄비우동', 2166: '참치덮밥', 2167: '돌솥날치알비빔밥', 2168: '불고기덮밥', 2169: '김치참치볶음밥', 2170: '고기만두', 2171: '들깨순두부찌개', 2172: '김치만두', 2173: '오삼덮밥', 2174: '참치찌개', 2175: '모듬만두', 2176: '철판김치볶음밥', 2177: '튀김만두', 2178: '철판불고기덮밥', 2179: '철판닭갈비덮밥', 2180: '철판낙지덮밥', 2181: '반계탕', 2182: '한방삼계탕', 2183: '한방반계탕', 2184: '뚝배기닭도리탕', 2185: '삼계란찜', 2186: '한방인삼죽', 2187: '닭한마리', 2188: '통닭구이', 2189: '찹쌀공깃밥', 2190: '한라산/대장부', 2191: '청하/매화수', 2192: '인삼주', 2193: '바밤바밤막걸리', 2194: '소고기전골', 2195: '설렁탕', 2196: '소우거지국밥', 2197: '불껍데기', 2198: '도가니탕', 2199: '오징어볶음', 2200: '오징어데침', 2201: '시사모구이', 2202: '건강삼계탕', 2203: '미용삼계탕', 2204: '죽', 2205: '얼큰삼계탕', 2206: '옻', 2207: '헛개삼계탕', 2208: '들깨한방삼계탕', 2209: '녹두', 2210: '흑마늘한방삼계탕', 2211: '흑삼삼계탕', 2212: '오리닭가슴살떡갈비', 2213: '오리고추장불고기', 2214: '불닭발', 2215: '천마오리보양탕', 2216: '능이전복보양찜', 2217: '영월묵은지닭도리탕', 2218: '오리탕', 2219: '오리주물럭', 2220: '제육', 2221: '유동골뱅이', 2222: '무국', 2223: '북어국', 2224: '미역국', 2225: '고등어구이반상', 2226: '김치찜김치추가', 2227: '김치찜달걀정식', 2228: '김치찜고등어정식', 2229: '치즈달걀말이', 2230: '참치김치찌개반상', 2231: '김치찜고기추가', 2232: '김치찜떡갈비정식', 2233: '김치찜제육정식', 2234: '김치찜반상', 2235: '치즈달걀말이반상', 2236: '직화김치볶음밥', 2237: '김치찜불백정식', 2238: '햄김치찌개반상', 2239: '직화제육볶음반상', 2240: '직화돼지불백반상', 2241: '떡갈비반상', 2242: '돼지불백', 2243: '캔음료', 2244: '순대해장라면', 2245: '보쌈정식', 2246: '오징어숙회', 2247: '할매보쌈', 2248: '순대소곱창전골', 2249: '뼈감자탕', 2250: '보쌈+홍어+묵은지', 2251: '홍어회', 2252: '철판닭갈비', 2253: '우동면사리', 2254: '삼겹살닭갈비', 2255: '칼국수사리', 2256: '치즈닭갈비', 2257: '얼큰닭한마리', 2258: '옻삼계탕', 2259: '산삼배양근삼계탕', 2260: '런치(닭갈비)', 2261: '한우꽃등심', 2262: '한우살치등심', 2263: '한우안심', 2264: '한우꽃살', 2265: '한우육사시미', 2266: '진꽃갈비살', 2267: '양념소갈비', 2268: '생목살', 2269: '돼지왕갈비', 2270: '생면국수', 2271: '베트남소고기쌀국수', 2272: '국물떡볶이', 2273: '상하이진한짬뽕', 2274: '고구마치돈', 2275: '국수나무우동', 2276: '음료수_콜라', 2277: '음료수_사이다', 2278: '옛날왕돈까스', 2279: '아쿠아돈까스', 2280: '순보리물냉면', 2281: '로제돈까스', 2282: '순보리비빔냉면', 2283: '메밀소바', 2284: '초계국수', 2285: '상하이짬뽕밥', 2286: '모둠어묵탕면', 2287: '모둠어묵우동', 2288: '얼그레이하이볼', 2289: '생갈매기살', 2290: '소금막창', 2291: '위스키하이볼', 2292: '양념막창', 2293: '산토리가쿠하이볼', 2294: '데리야끼막창', 2295: '텐커레이NO.10하이볼', 2296: '미도리하이볼', 2297: '유자하이볼', 2298: '냉면(물냉,비냉)', 2299: '스팸치즈순두부', 2300: '우삼겹카례순두부', 2301: '서울의밤25', 2302: '황금보리소주17', 2303: '치즈계란찜', 2304: '황금보리소주25', 2305: '게란찜', 2306: '옛날떡볶이', 2307: '화요41', 2308: '짜장떡볶이', 2309: '일품진로', 2310: '토닉위터', 2311: '아이셔이슬', 2312: '자몽에이슬', 2313: '청포도이슬', 2314: '별빛청하', 2315: '민초소주', 2316: '처음처럼꿀주', 2317: '닭칼국수', 2318: '토종닭한마리', 2319: '토종닭볶음탕', 2320: '라면두부(각)', 2321: '찹쌀', 2322: '누룽지.감자', 2323: '토종닭물닭갈비', 2324: '칼국수.떡(각)', 2325: '어리굴젓', 2326: '라면우동쓸면치즈,야채(각)', 2327: '날치알볶음밥', 2328: '홍콩우육탕면', 2329: '양곱창전골', 2330: '사천제육철판', 2331: '새우물만두', 2332: '동파육과청경채', 2333: '매운양곱창탕면', 2334: '군만두국물떡볶이', 2335: '청경채도가니탕면', 2336: '완탕면', 2337: '파김치주물럭', 2338: '매운쭈꾸미', 2339: '쭈물럭', 2340: '냉동삼겹살', 2341: '냉동우삼겹', 2342: '쭈꾸미삼겹살', 2343: '파김치추가', 2344: '수제햄구이', 2345: '자연치즈사리', 2346: '물냉면/비빔냉면', 2347: '탄산음료(콜라,사이다,스파클링)', 2348: '촉촉치즈볼', 2349: '꼬마식혜', 2350: '매운불족발', 2351: '매운미니족발', 2352: '무침족발', 2353: '간장마늘양념치킨', 2354: '반반치킨', 2355: '페퍼로니피자', 2356: '한캔골뱅이무침', 2357: '토마토샐러드', 2358: '새우카레덮밥', 2359: '치킨카레덮밥', 2360: '떡갈비카레덮밥', 2361: '치즈제육덮밥', 2362: '참치김치덮밥', 2363: '참치비빔밥', 2364: '쌍둥이비빔밥', 2365: '찜닭덮밥', 2366: '소고기간장비빔밥', 2367: '떡왕만두국', 2368: '우볶이', 2369: '오뎅우동', 2370: '옛날우동', 2371: '매운모둠어묵우동', 2372: '들기름모밀', 2373: '얼큰우동', 2374: '카레우동', 2375: '소불고기우동', 2376: '통돼지양푼김치전골', 2377: '파제육두루치기', 2378: '볶음김치', 2379: '김치', 2380: '현미밥', 2381: '한솥밥', 2382: '볶음고추장', 2383: '무말랭이', 2384: '토네이도소세지파스타', 2385: '트리플치즈파스타', 2386: '토마토미트파스타', 2387: '치즈닭갈비덮밥', 2388: '우거지뼈해장국', 2389: '우거지선지해장국', 2390: '굴매생이해장국', 2391: '홍합아욱해장국', 2392: '굴순두부찌개', 2393: '청국장순두부', 2394: '해물순두부', 2395: '김치순두부', 2396: '하얀순두부', 2397: '국치정식', 2398: '로제돈까스정식', 2399: '진국정식', 2400: '힘찬정식', 2401: 'D세트', 2402: 'E세트', 2403: 'F세트', 2404: 'G세트', 2405: 'H세트', 2406: '돼지숙주덮밥', 2407: '쭈꾸미숙주덮밥', 2408: '한입야끼만두', 2409: '닭껍질만두', 2410: '숙주라면', 2411: '통살새우볼', 2412: '감자옹심이', 2413: '메밀물막국수/메밀비빔막국수', 2414: '감자옹심이칼국수', 2415: '함흥냉면', 2416: '만두전골', 2417: '왕만두국', 2418: '감자전', 2419: '뽀끼', 2420: '오뎅뽀끼', 2421: '치즈뽀끼', 2422: '돈까스뽀끼', 2423: '짜장뽀끼', 2424: '짜장오뎅뽀끼', 2425: '짜장치즈뽀끼', 2426: '짜장돈까스뽀끼', 2427: '불뽀끼', 2428: '오뎅볶이', 2429: '치즈볶이', 2430: '짜장볶이', 2431: '치츠볶이', 2432: '짜장돈까스', 2433: '삶은계란', 2434: '치즈떡', 2435: '비엔나', 2436: '쫄면사리', 2437: '오뎅사리', 2438: '밀떡사리', 2439: '납작만두', 2440: '감자말이새우', 2441: '꼬마김밥', 2442: '비빔공기밥', 2443: '치즈뽀끼+생맥주또는소주', 2444: '계란말이김밥', 2445: '떡볶기정식', 2446: '우동정식', 2447: '오뎅정식', 2448: '컵라면정식', 2449: '멸치김밥', 2450: '라면(떡,만두,치즈)', 2451: '땡초참치김밥', 2452: '오무라이스', 2453: '왕돈가스', 2454: '야채비빔밥', 2455: '등심돈가스', 2456: '매운냉면', 2457: '얼큰육개장', 2458: '고구마치즈돈가스', 2459: '햄야채볶음밥', 2460: '우거지갈비탕', 2461: '솥밥비빔밥', 2462: '어묵우동', 2463: '생선가스', 2464: '튀김우동', 2465: '미니돈가스+냉면', 2466: '돈가스+쫄면', 2467: '돈가스+우동', 2468: '돈가스+모밀', 2469: '돈가스+라면', 2470: '떡갈비+냉면', 2471: '칼제비', 2472: '휴라면', 2473: '자장면', 2474: '교자만두', 2475: '닭개장', 2476: '해물라면', 2477: '황태떡만두국', 2478: '황태만두국', 2479: '카레만두', 2480: '황태떡국', 2481: '오뎅꼬치', 2482: '개성만두', 2483: '사랑세트', 2484: '고기통만두', 2485: '김치통만두', 2486: '새우통만두', 2487: '고기왕만두', 2488: '김치왕만두', 2489: '반반왕만두', 2490: '팥찐빵', 2491: '세트', 2492: '달밤세트', 2493: '뚝배기라볶이', 2494: '뚝배기떡볶이', 2495: '스팸계란말이', 2496: '불오뎅말이', 2497: '참치청양말이', 2498: '뚝배기로제라볶이', 2499: '뚝배기로제떡볶이', 2500: '치즈계란말이', 2501: '스팸김치말이', 2502: '고구마튀김', 2503: '모짜렐라치즈', 2504: '치킨안심스틱', 2505: '수제등심돈까스', 2506: '불튀만두', 2507: '참치주먹밥', 2508: '참치김치주먹밥', 2509: '콩나물해장라면', 2510: '계란2개라면', 2511: '치즈계란짜파게티', 2512: '돈까스매콤소스', 2513: '옛날돈까스', 2514: '냉이된장찌개', 2515: '돈까스김치찌개', 2516: '돈까스오므라이스', 2517: '차돌냉이된장찌개', 2518: '목살김치찌개', 2519: '새우계란볶음밥', 2520: '소시지오므라이스', 2521: '오뎅김치찌개', 2522: '대패고추장덮밥', 2523: '데리야끼대패덮밥', 2524: '치킨안심스틱오므라이스', 2525: '콩나물김치덮밥', 2526: '캔콜라', 2527: '돌솥치즈김치비빔밥', 2528: '낙지비빔밥', 2529: '콩나물간장비빔밥', 2530: '돈김(돈까스+김치볶음밥)', 2531: '가래떡꼬치', 2532: '곰돌이돈까스', 2533: '할매닭강정', 2534: '핫도그', 2535: '치즈감자칩', 2536: '공갈만두', 2537: '어묵튀김', 2538: '맛감자', 2539: '게살튀김', 2540: '새우토핑', 2541: '계란추가', 2542: '숙성지참치김밥', 2543: '매운제육쌈김밥', 2544: '바른김밥', 2545: '크림치즈호두김밥', 2546: '키토크림치즈호두김밥', 2547: '키토새우튀김김밥', 2548: '매운멸추김밥', 2549: '매운쌈닭김밥', 2550: '제육튀김만두', 2551: '가락떡볶이', 2552: '치즈가락떡볶이', 2553: '새우표고떡만두국', 2554: '새우표고만두', 2555: '쿨피스(복숭아)', 2556: '새우딤섬튀김만두', 2557: '로제가락떡볶이', 2558: '바삭감자채튀김', 2559: '미니하우스샐러드', 2560: '데번샐러드', 2561: '리코타치즈샐러드', 2562: '닭가슴살&아보샐러드', 2563: '그릴드쉬림프+아보샐러드', 2564: '구운곡물빵&버터', 2565: '애플주스', 2566: '야채샐러드', 2567: '구운모둠소세지', 2568: '치즈오븐스파게티', 2569: '고구마치즈스틱&모둠감자', 2570: '마루떡볶이', 2571: '마루물뱅이', 2572: '얼음황도', 2573: '간사이오뎅탕', 2574: '얼큰해물짬뽕탕', 2575: '한입노가리', 2576: '병맥주테라/카스', 2577: '버팔로윙', 2578: '스파이시포테이토', 2579: '코코넛쉬림프', 2580: '그린샐러드', 2581: '사이드세트(밥+스프+샐러드)', 2582: '눈꽃치즈토핑', 2583: '샐러드', 2584: '스프', 2585: '사이드세트(빵+스프+샐러드)', 2586: '밥', 2587: '빵', 2588: '스테이크버섯리소토', 2589: '전복게살리소토', 2590: '왕새우토마토리소토', 2591: '간장치킨크림파스타', 2592: '스네이크로제파스타', 2593: '레드크림꽃게파스타', 2594: '매콤해물토마토파스타', 2595: '빼스카토레', 2596: '치킨아라비아따', 2597: '뽀모도로', 2598: '볼로네제', 2599: '날치알엔초비', 2600: '빼세', 2601: '페페론알리오올리오', 2602: '봉골레비안꼬', 2603: '순살치킨플래터', 2604: '해산물토마토', 2605: '토마토짬뽕파스타', 2606: '명란아보카도', 2607: '마늘새우버터덮밥', 2608: '트리플베리에이드', 2609: '식전빵', 2610: '크리스피쿠카부라윙', 2611: '베이비백립', 2612: '하우스샐러드추가시', 2613: '감바스추가시', 2614: '시칠리아페스토,트러플크림파스타변경시', 2615: '해산물토마토,로제,라구비스크파스타변경시', 2616: '식전빵+파스타1+채끝살스테이크(300G)', 2617: '식전빵+파스타1+양갈비스테이크(4pcs)', 2618: '식전빵+파스타1+안심스테이크(280g)', 2619: '브로스/매콤반반돈까스', 2620: '매콤/크림반반돈까스', 2621: '달링포인트스트립', 2622: '퀸즈랜드립아이', 2623: '퍼보1', 2624: '분보후에', 2625: '퍼가', 2626: '퍼탑깜', 2627: '면추가', 2628: '분짜', 2629: '퍼싸오', 2630: '퍼싸오탑깜', 2631: '꼼징능주', 2632: '꼼징팃꾸아', 2633: '퍼보2', 2634: '퍼보3', 2635: '퍼보4', 2636: '씬도우', 2637: '나폴리도우', 2638: '슈퍼시드함유도우', 2639: '트리플치즈버스트엣지', 2640: '오리지널도우', 2641: '더블치즈엣지', 2642: '리얼불고기피자', 2643: '뉴욕오리진피자', 2644: '아메리칸패티멜트피자', 2645: '우리고구마피자', 2646: '베이컨체더치즈피자', 2647: '슈퍼디럭스피자', 2648: '슈퍼슈프림피자', 2649: '치즈피자', 2650: '갈릭디핑소스', 2651: '핫소스', 2652: '우리피클', 2653: '버섯', 2654: '피망', 2655: '수제함박스테이크', 2656: '함박스테이크', 2657: '문어라구파스타', 2658: '쉬림프알프레도파스타', 2659: '해산물아라비아타파스타', 2660: '컴비네이션피자', 2661: '독일식커리피자', 2662: '산펠레그리노오렌지', 2663: '산펠레그리노레몬', 2664: '비라모레띠', 2665: '폼비스런쉬라즈2016', 2666: '폼비스런샤도네이2015', 2667: '폼비스런쉬라즈', 2668: '올드바인익스프레션', 2669: '팍스톤AAA쉬라즈그르나슈', 2670: '발레피치올라퍼르시모', 2671: '피에바시에타', 2672: '폼비스런화이트', 2673: '도멘드라뚜르말린', 2674: '뚜렌느쇼비뇽', 2675: '크레망드루아르', 2676: '청담우동', 2677: '정식', 2678: '돈가스우동', 2679: '매운오뎅우동나베', 2680: '매운돈가스우동나베', 2681: '매운돈가스', 2682: '프라임채끝스테이크', 2683: '랍스터&씨푸드', 2684: '비프부르기뇽', 2685: '씨블루감바스', 2686: '허브로스트치킨', 2687: '씨블루중화식해산물볶음', 2688: '돼지목살갈비', 2689: '관자율무리조또', 2690: '씨블루해산물탕', 2691: '문어스테이크', 2692: '레몬갈릭바지락술찜', 2693: '피쉬필렛', 2694: '바비큐쉬림프피자', 2695: '잠봉올리브피자', 2696: '머쉬룸피자', 2697: '포치즈피자', 2698: '올스타피자', 2699: '트래디셔널라자냐', 2700: '기브미파이브', 2701: '슈림프감바스샐러드', 2702: '치킨텐더샐러드', 2703: '우즈브런치', 2704: '샐러드파스타', 2705: '치아바타샌드위치', 2706: '크림리조또', 2707: '쉬림프필라프', 2708: '크림파스타', 2709: '토마토파스타', 2710: '오일파스타', 2711: '쉬림프샐러드', 2712: '바지락찜', 2713: '해산물수프', 2714: '하몽시저샐러드', 2715: '모듬핀초스', 2716: '메론하몽', 2717: '문어감자', 2718: '머쉬룸알아히요', 2719: '감바스알아히요', 2720: '이베리코늑간살스테이크', 2721: '비프퀘사디아', 2722: '황제소늑간스테이크', 2723: '오징어튀김과마요소스', 2724: '크리스피치킨&코올슬로', 2725: '새우크림파스타', 2726: '미트볼파스타', 2727: '봉골레파스타', 2728: '트러플감자튀김', 2729: '하몽플래터', 2730: '이베리코샤프란빠에야', 2731: '오징어먹물빠에야', 2732: '해산물샤프란빠에야', 2733: '치즈플래터', 2734: '모둠플래터', 2735: '부챗살스테이크콤보', 2736: '부챗살스테이크', 2737: '부챗살스테이크세트', 2738: '등심스테이크세트', 2739: '투움바쉬림프스테이크', 2740: '프라임스테이크콤보', 2741: '특제스테이크볶음밥', 2742: '프라임스테이크', 2743: '살치살스테이크', 2744: '살치살스테이크콤보', 2745: '갈릭쉬림프스테이크', 2746: '갈릭스테이크볶음밥', 2747: '탄산음료(콜라,사이다)', 2748: '에이드(자몽,오렌지)', 2749: '캔맥주', 2750: '등심스테이크', 2751: '등심스테이크콤보', 2752: '갈릭파마산치킨크림파스타', 2753: '쿵파오치킨스파게티', 2754: '언리미트볼로네제스파게티', 2755: '감베로니스파게티', 2756: '스파이시아라비아타', 2757: '허머스샐러드', 2758: '오리지널바베큐치킨피자', 2759: '트러플머쉬룸까르보나라', 2760: '핑크허머스볼', 2761: '캘리포니아클럽피자', 2762: '잠발라야라이스', 2763: '쉬림프파워볼', 2764: '마르게리타피자', 2765: '스파이시쉬림프필라프', 2766: '수비드치킨파워볼', 2767: '화이트고르곤졸라피자', 2768: '스테이크크림리조또', 2769: '수비드비프파워볼', 2770: '머쉬룸페퍼로니소시지피자', 2771: '치즈로제새우파스타', 2772: '크림새우파스타', 2773: '로제새우파스타', 2774: '오일새우파스타', 2775: '토마토새우파스타', 2776: '치즈토마토베이컨파스타', 2777: '토마토베이컨파스타', 2778: '치즈미트소스리조또', 2779: '치즈미트소스파스타', 2780: '미트소스파스타', 2781: '해장파스타', 2782: '미트소스리조토', 2783: '치즈토마토베이컨리조또', 2784: '토마토베이컨리조또', 2785: '크림베이컨리조또', 2786: '크림새우리조또', 2787: '연어레몬크림파스타', 2788: '크림베이컨파스타', 2789: '로제새우리조토', 2790: '아이스티', 2791: '커피', 2792: '병맥주', 2793: '치즈로제새우리조또', 2794: '치즈오븐추가', 2795: '양추가', 2796: '리얼페퍼로니피자', 2797: '베이컨크림리조또', 2798: '새우로제리조또', 2799: '족마호크', 2800: '쟁반쫄면', 2801: '쟁반막국수', 2802: '춘천물막국수', 2803: '반반막국수', 2804: '해물부추전', 2805: '해물김치전', 2806: '보쌈김치추가', 2807: '반반전', 2808: '제주돈차돌', 2809: '숯불양념갈비1대+버섯탕', 2810: '숯불양념갈비1대+양고기(또는새우)볶음밥', 2811: '숯불양념갈비1대+양불고기밥', 2812: '숯불양고기꼬치구이1인분+양고기볶음밥(halfsize)', 2813: '보쌈세트', 2814: '맵쌈세트', 2815: '맵쌈', 2816: '재래김', 2817: '곱빼기보쌈도시락', 2818: '보쌈+오징어볶음도시락', 2819: '보쌈+제육도시락', 2820: '오징어볶음도시락', 2821: '제육도시락', 2822: '광릉식불고기도시락', 2823: '보쌈도시락', 2824: '보쌈+광릉식불고기도시락', 2825: '쌈야채세트', 2826: '물or콩나물국', 2827: '광릉식불고기덮밥', 2828: '오징어보쌈덮밥', 2829: '33찌개', 2830: '냉쫄면', 2831: '살치살', 2832: '안심스테이크', 2833: '채끝', 2834: '양념구이', 2835: '훈제오리구이', 2836: '치마살', 2837: '야채곱창', 2838: '야채순대볶음', 2839: '야채순대곱창', 2840: '알곱창', 2841: '뼈없는닭발', 2842: '껍데기', 2843: '연탄고추장불고기+오징어', 2844: '오징어추가', 2845: '흑돼지짜글이', 2846: '고추장불고기', 2847: '흑돼지김치전골', 2848: '꼬물이만두', 2849: '연탄고추장불고기', 2850: '골뱅이+소면', 2851: '전주콩나물국밥', 2852: '황태콩나물국밥', 2853: '청국장비빔밥정식', 2854: '순두부청국장', 2855: '들깨닭볶음탕', 2856: '로제닭볶음탕', 2857: '순살', 2858: '곱도리탕', 2859: '치즈닭볶음탕', 2860: '치즈볶음밥', 2861: '닭똥집튀김', 2862: '후레쉬', 2863: '청포도', 2864: '자몽', 2865: '오렌지', 2866: '대창추가', 2867: '깻잎사리', 2868: '둥지추가', 2869: '분모자추가', 2870: '넓적당면', 2871: '웰치스포도', 2872: '왕족발', 2873: '미니족', 2874: '제주산생근고기', 2875: '왕노가리', 2876: '볶음밥한판', 2877: '버섯칼국수', 2878: '연수당복분자', 2879: '한우갈비살', 2880: '치마', 2881: '한우특수모듬', 2882: '한우등심', 2883: '가브리', 2884: '등골', 2885: '양념돼지갈비', 2886: '간.천엽', 2887: '살치', 2888: '토시', 2889: '항정', 2890: '염통', 2891: '진피볶음', 2892: '오징어', 2893: '마라꼬치', 2894: '짝태볶음', 2895: '양갈비살', 2896: '콩팥', 2897: '감자채볶음', 2898: '양배필', 2899: '양콩팥', 2900: '마라두부', 2901: '지레', 2902: '즈란혈관', 2903: '새송이꼬치', 2904: '소진피', 2905: '양탕', 2906: '혈관', 2907: '건두부구이꼬치', 2908: '양깃머리', 2909: '만토구이', 2910: '열탄불고기', 2911: '더매운열탄불고기', 2912: '한돈생오겹살', 2913: '한돈생목살', 2914: '훈제막창', 2915: '7분돼지김치', 2916: '냉김치말이국수', 2917: '멸치국수', 2918: '토시살', 2919: '갈비본살', 2920: '등심', 2921: '진꽃살', 2922: 'LA양념갈비', 2923: '돼지양념갈비', 2924: '순곱창', 2925: '흑돼지오겹살', 2926: '부대전골', 2927: '제육쌈밥', 2928: '제육오징어쌈밥', 2929: '오징어쌈밥', 2930: '비빔/물냉면', 2931: '계란찜추가', 2932: '족발반반셋트', 2933: '불매운족발', 2934: '순두부찌개추가', 2935: '날치마요주먹밥', 2936: '보.속무김치추가', 2937: '보쌈김치(추가)', 2938: '구운족발', 2939: '굴보쌈', 2940: '매콤명태+족발세트', 2941: '족발+보쌈세트', 2942: '족발+쟁반국수+계란찜', 2943: '족발골뱅이', 2944: '쟁반국수', 2945: '매콤명태조림', 2946: '알주먹밥', 2947: '생굴', 2948: '생굴탕', 2949: '특수부위+생삼겹살', 2950: '차돌박이+생목살', 2951: '특수부위+육회', 2952: '한우곱창구이', 2953: '한우염통구이', 2954: '한우대창구이', 2955: '막창구이', 2956: '한우곱창전골', 2957: '해물짬뽕라면탕', 2958: '족발반추가', 2959: '볶음김치순두부', 2960: '김치만두탕', 2961: '들깨순두부', 2962: '직화불족발', 2963: '족발정식', 2964: '치즈날치알계란찜', 2965: '보쌈고기추가', 2966: '족발+불족', 2967: '복국', 2968: '비빔면', 2969: '어리굴젓추가', 2970: '복탕', 2971: '밀면', 2972: '보쌈+족발', 2973: '우육냉채', 2974: '썅라러우스', 2975: '마라썅궈', 2976: '청양소고기볶음', 2977: '꿔뽀러우', 2978: '라즈찌', 2979: '사천식수육볶음', 2980: '향라갈비', 2981: '표고청경채', 2982: '썅라새우', 2983: '어향육슬', 2984: '마라룽샤', 2985: '항라닭날개', 2986: '꿍보찌띵', 2987: '오이탕탕', 2988: '충뽀양러우', 2989: '새우계란찜', 2990: '모듬무침', 2991: '꿍보샤츄우', 2992: '초면', 2993: '찐꽃빵', 2994: '쏸탕뉴러우', 2995: '쌍꿔찌', 2996: '잡채볶음', 2997: '순대곱창', 2998: '쥐포+땅콩', 2999: '먹태+땅콩', 3000: '노가리+쥐포+땅콩', 3001: '카스생맥주', 3002: '광어+우럭', 3003: '생선회', 3004: '매운탕추가', 3005: '해산물모듬', 3006: '개불', 3007: '보리숭어+광어', 3008: '보리숭어+연어', 3009: '보리숭어+도다리', 3010: '광남수사정식', 3011: '민어탕', 3012: '우럭탕', 3013: '완도매생이', 3014: '매국밥', 3015: '홍어찜', 3016: '홍어탕', 3017: '홍어라면', 3018: '홍어전', 3019: '보리애국', 3020: '홍어튀김', 3021: '벌교꼬막', 3022: '멍게덮밥', 3023: '고등어구이정식', 3024: '대장부', 3025: '식사탕', 3026: '아쿠츠마루', 3027: '틴레이준마이', 3028: '불육회', 3029: '육회150g+연어12p', 3030: '육회+연어상차림', 3031: '불육회150g+연어15p', 3032: '갑오징어숙회', 3033: '해물크림떡볶기', 3034: '치즈불닭', 3035: '해물볶음짬뽕', 3036: '산더미조개탕', 3037: '나가사끼짬뽕', 3038: '주전자오뎅탕', 3039: '육회덮밥', 3040: '연어유부초밥', 3041: '육연덮밥', 3042: '초밥밥', 3043: '짐빔', 3044: '산토리가쿠빈', 3045: '붐베이', 3046: '얼그레이', 3047: '카시스오렌지', 3048: '청포도소다', 3049: '카시스소다', 3050: '환타파인애플', 3051: '레몬슬라이스', 3052: '생연어덮밥', 3053: '모둠회덮밥', 3054: '새우철판볶음밥', 3055: '뚝배기알밥', 3056: '새우냄비우동', 3057: '얼큰해물라면', 3058: '인기많은해물짜파게티', 3059: '셀프초밥', 3060: '도시락김(5개)', 3061: '사케', 3062: '망고담금주', 3063: '도쿠리사케', 3064: '레몬담금주', 3065: '쇼치쿠바이텐', 3066: '사쿠라로망', 3067: '송죽매준마이', 3068: '하나야구준마이', 3069: '남부비진긴죠', 3070: '하이볼레몬/망고', 3071: '피치', 3072: '아이스포도', 3073: '코코넛샤베트', 3074: '기름떡볶이', 3075: '핫도볼', 3076: '버터구이오다리', 3077: '매콤무뼈국물닭발', 3078: '참소라초밥', 3079: '치즈가래떡구이', 3080: '블랙악마치킨', 3081: '순살블랙악마치킨', 3082: '블랙악마윙콤보', 3083: '악마치킨', 3084: '순살악마치킨', 3085: '악마윙콤보', 3086: '하바네로불닭발', 3087: '황올불닭반반', 3088: '오징어땅콩', 3089: '한망치모듬안주', 3090: '화로닭발', 3091: '모듬소시지', 3092: '골뱅이&소면', 3093: '통오징어로제떡볶킹', 3094: '통오징어한판떡볶킹', 3095: '깐풍닭똥집', 3096: '쭈꾸미튀김', 3097: '포테이토튀김', 3098: '소면추가', 3099: '순살양념', 3100: '순살간장', 3101: '육육치킨뼈닭한마리', 3102: '육육치킨맛있는윙만', 3103: '육육치킨순살한마리', 3104: '육육치킨맛있는봉만', 3105: '육육치킨콤보윙+봉+다리', 3106: '육육치킨맛있는다리만', 3107: '육육치킨미니쫀득볼', 3108: '육육치킨윙봉세트윙+봉', 3109: '3종치즈볼', 3110: '오리지널치즈볼', 3111: '똥집감자튀김', 3112: '허니오리지날치킨', 3113: '레드디핑소스', 3114: '허니순살', 3115: '치즈라볶이범벅세트', 3116: '짜빠구리범벅세트', 3117: '추억의1000cc', 3118: '할맥', 3119: '역전하이볼', 3120: '할맥포장', 3121: '할모닝', 3122: '앗뜨거!불맛소세지', 3123: '황도후르츠', 3124: '먹태와노가리', 3125: '라이스세트', 3126: '오리지날양념치킨', 3127: '극한왕갈비치킨', 3128: '파더스치킨', 3129: '황금올리브치킨TM순살양념', 3130: '황올한깐풍치킨', 3131: '시즈닝3종', 3132: '오리지날', 3133: '스틱', 3134: '콤보', 3135: '마늘치킨', 3136: '허니간장치킨', 3137: '양념치킨(순한or매운)', 3138: '킹바삭(크리스피)치킨', 3139: '뿌링클링치킨', 3140: '와사비파닭', 3141: '달콤닭강정', 3142: '매콤닭강정', 3143: '마늘간장닭강정', 3144: '치즈닭강정', 3145: '숯불바베큐닭강정', 3146: '수원왕갈비닭강정', 3147: '디핑소스', 3148: '케이준양념감자', 3149: '치킨무', 3150: '치즈포테이토', 3151: '통닭', 3152: '양념통닭', 3153: '고추통닭', 3154: '모듬소시지+감튀', 3155: '수제돈까스', 3156: '스팸두부김치', 3157: '오돌뼈+날치알밥', 3158: '김치찌개(참치또는꽁치)', 3159: '차돌순두부탕', 3160: '감자황태탕', 3161: '매운닭발+(계란찜or날치알밥)', 3162: '핫봉+핫윙+감튀', 3163: '똥집볶음', 3164: '통새우튀김+샐러드', 3165: '왕새우버터구이', 3166: '모듬전', 3167: '칵테일황도', 3168: '진격수제피자', 3169: '칵테일파인애플', 3170: '모듬감자튀김', 3171: '까르보나라떡볶이', 3172: '두툼쥐포', 3173: '먹태포구이', 3174: '오꼬노미야끼', 3175: '소세지구이', 3176: '하울정식', 3177: '우삼겹숙주볶음', 3178: '카스병맥주', 3179: '에그인헬', 3180: '테라병맥주', 3181: '닭목살볶음', 3182: '감바스', 3183: '클라우드생드래프트병맥주', 3184: '마라닭목살볶음', 3185: '크로넨버그1664블랑', 3186: '마라감바스', 3187: '바게트추가', 3188: '하이볼토닉', 3189: '간장새우', 3190: '하이볼진저에일', 3191: '양념새우', 3192: '하이볼자몽', 3193: '짬뽕탕', 3194: '하이볼피치트리', 3195: '나가사키', 3196: '하이볼피치자몽', 3197: '하이볼모히또', 3198: '밀푀유나베', 3199: '볶음우동', 3200: '하이볼유자', 3201: '하이볼얼그레이', 3202: '닭껍질교자', 3203: '샷추가', 3204: '문어가라아게', 3205: '코카콜라제로', 3206: '골뱅이와소면', 3207: '치즈순살볶음', 3208: '화살닭똥집', 3209: '러블리세트', 3210: '순살선택시', 3211: '트리플콤보(택일/순살가능)', 3212: '칠리나쵸', 3213: '망고샐러드', 3214: '과일샐러드', 3215: '모둠소세지', 3216: '새우와감자튀김', 3217: '궁물봉떡이', 3218: '로제봉떡이', 3219: '오뎅키데스까', 3220: '순살치킨주먹밥', 3221: '감자튀김(소)+옛날통닭', 3222: '청순텐더', 3223: '봉구촉촉오징어', 3224: '견과류', 3225: '대왕쥐포', 3226: '오바디튀김', 3227: '게새튀김', 3228: '네키드사워', 3229: '진&토닉', 3230: '위스키&소다', 3231: '싱글', 3232: '보드카&토닉', 3233: '럼&코크', 3234: '럼', 3235: '위스키', 3236: '진코스', 3237: '보드카', 3238: '더블', 3239: '맥주샘플러', 3240: '파티', 3241: '이태원페일에일', 3242: '버드와이저', 3243: '허그미위트비어', 3244: '10개', 3245: '15개', 3246: '달빛필스너', 3247: '20개', 3248: '맥파이쾰시', 3249: '윙추가5개', 3250: '오마이엠버', 3251: '14개', 3252: '더핸드앤몰트슬로우아이피에이', 3253: '21개', 3254: '이블트원레드에일', 3255: '28개', 3256: '추가7개', 3257: '고릴라스타우트', 3258: '슈스트링감자튀김', 3259: '댄싱파파', 3260: '양파링크로켓', 3261: '와플감자튀김', 3262: '스윗마마', 3263: '시저샐러드', 3264: '이네딧담', 3265: '비프칠리', 3266: '위터멜론위트에일', 3267: '랜치드레싱', 3268: '박웨이브골든에일', 3269: '핫랜치', 3270: '블루치즈', 3271: '하바네로랜치', 3272: '닥터페퍼', 3273: '셀러리와당근', 3274: '소스1개추가', 3275: '라임', 3276: '구아바', 3277: '후라이드반반', 3278: '생똥집튀김', 3279: '빨간부산어묵', 3280: '꼬치추가', 3281: '꽈리고추튀김', 3282: '의리남소주', 3283: '씨에라카페', 3284: '호세쿠엘보', 3285: '스미노프그린애풀', 3286: '엡솔루트', 3287: '예거마이스터', 3288: '봄베이사파이어', 3289: '글렌피딕세트', 3290: '제육김밥', 3291: '진미채김밥', 3292: '쏘세지김밥', 3293: '햄치즈김밥', 3294: '계란폭탄김밥', 3295: '스페셜떡볶이', 3296: '토마토김밥', 3297: '어린이김밥', 3298: '쫄라볶이', 3299: '얼큰라면', 3300: '수제왕돈까스', 3301: '물만두우동', 3302: '김치주먹밥', 3303: '믹스주먹밥', 3304: '소고기주먹밥', 3305: '멸치주먹밥', 3306: '돈까스주먹밥', 3307: '명품김밥', 3308: '명품떡볶이', 3309: '순두부백반', 3310: '오뎅백반', 3311: '백반', 3312: '소불고기뚝배기', 3313: '웰치스', 3314: '매운맛소스', 3315: '도시락김', 3316: '슬라이스치즈', 3317: '통다리치킨까스', 3318: '까르보돈까스', 3319: '매운돈까스', 3320: '해물볶음밥', 3321: '치즈김치도리아', 3322: '새우오므라이스', 3323: '떡갈비오므라이스', 3324: '치즈해물도리아', 3325: '비건뷔페중학생이상', 3326: '도시락셀프포장', 3327: '난자완스', 3328: '해삼송이', 3329: '송이관자', 3330: '게살샥스핀', 3331: '미니라면', 3332: '천진고량주', 3333: '수정방', 3334: '죽엽청주', 3335: '우럭매운탕', 3336: '아구매운탕', 3337: '조기매운탕', 3338: '홍어매운탕', 3339: '생태탕', 3340: '대구매운탕', 3341: '전복초밥', 3342: '희락정식', 3343: '서대매운탕', 3344: '모듬꼬치', 3345: '쉬림프크림파스타', 3346: '조개술찜', 3347: '치킨카라아게', 3348: '수제오코노미야끼', 3349: '삼겹숙주볶음', 3350: '버터갈릭쉬림프', 3351: '해물야끼우동', 3352: '나가사키짬뽕나베', 3353: '닭고기토마토나베', 3354: '명란매운짬뽕나베', 3355: '불향차돌떡볶이', 3356: '통큰오짱떡볶이', 3357: '옛다방떡볶이', 3358: '피자로니떡볶이', 3359: '차새대떡볶이', 3360: '차돌/오짱로제떡볶이', 3361: '반반떡볶이', 3362: '치즈폭포순살떡볶이', 3363: '엄마빠다밥', 3364: '알싸와사비밥', 3365: '깻잎순대떡볶이', 3366: '향긋깻잎', 3367: '감자샐러드', 3368: '부산어묵', 3369: '스파게티면', 3370: '아삭파채', 3371: '꽃분모자(토핑사리)', 3372: '꼬불라면', 3373: '쫀득치즈', 3374: '비엔나햄', 3375: '불향차돌', 3376: '탱탱쫄면', 3377: '통큰오짱', 3378: '뚝배기삼계탕', 3379: '사골곰탕', 3380: '녹두닭죽', 3381: '흑염소탕', 3382: '매취순', 3383: '콜키지', 3384: '바베큐구이', 3385: '사이살치킨강정', 3386: '립바베큐', 3387: '홍어정식', 3388: '홍어정식(2인이상)', 3389: '돌문어숙회', 3390: '모듬추가', 3391: '햄,소세지,만두', 3392: '라면,당면,떡', 3393: '수제햄·소시지사리', 3394: '알볶음밥', 3395: '웰빙버섯사리', 3396: '치즈토핑', 3397: '순대사리', 3398: '고구마사리', 3399: '모둠떡사리', 3400: '쫄면&라면사리', 3401: '떡볶이떡사리', 3402: '돌솥추어탕', 3403: '묵은지닭도리탕', 3404: '막창국밥', 3405: '돼지막창구이', 3406: '돼지막창전골', 3407: '가시오가피', 3408: '한방엄나무백숙/한방옻나무백숙', 3409: '한방백숙(꾸지뽕,황칠)', 3410: '능이,전복추가', 3411: '닭볶음탕(감자+묵은지)', 3412: '강된장밥', 3413: '돼지막창볶음', 3414: '과메기', 3415: '오징어/땅콩', 3416: '쥐포/땅콩', 3417: '청국장찌개', 3418: '국수', 3419: '낙지찜', 3420: '낙지연포탕한뚝배기', 3421: '낙지탕탕이+전복구이+전복죽+해물찜', 3422: '탕탕이', 3423: '전복구이', 3424: '산낙지(탕)', 3425: '전복(탕)', 3426: '꽃게', 3427: '소라', 3428: '곤이', 3429: '낙지', 3430: '알추가', 3431: '뽈데기탕', 3432: '국밥', 3433: '뼈다귀우거지탕', 3434: '맑은황태해장국', 3435: '오겹+낙지볶음', 3436: '오겹살제육볶음', 3437: '동태전', 3438: '게장백반', 3439: '간장게장', 3440: '해물삼합', 3441: '생선조림', 3442: '육회한접시', 3443: '생굴한접시', 3444: '연탄불고기+돼지국밥+국수사리', 3445: '등갈비김치찌개', 3446: '주물럭', 3447: '아귀수육', 3448: '체다치즈맛떡볶이', 3449: '을찌로제떡볶이', 3450: '모짜렐라치즈떡볶이', 3451: '스페셜모듬튀김', 3452: '을찌로어묵탕', 3453: '베이컨추가', 3454: '중국당면추가', 3455: '모닝빵추가', 3456: '을찌로한입만둣국', 3457: '버터갈릭감자튀김', 3458: '어묵채튀김', 3459: '단무지', 3460: '통큰힙징어', 3461: '모짜렐라치즈추가', 3462: '겉바속촉멘보샤', 3463: '참치마요컵밥', 3464: '어묵사리', 3465: '스팸마요컵밥', 3466: '팝콘고기만두', 3467: '비엔나소시지', 3468: '수제비만두', 3469: '잡채말이', 3470: '왕고추튀김', 3471: '세트1번', 3472: '떡볶이+어묵탕', 3473: '떡볶이+어묵탕+참치컵밥or스팸컵밥', 3474: '떡볶이+모듬튀김+참치컵밥or스팸컵밥+쿨피스', 3475: '세트2번', 3476: '떡볶이+모듬튀김+순대+쿨피스', 3477: '로제떡볶이+맛감자+콜라', 3478: '세트3번', 3479: '떡볶이+버터갈릭감자튀김+어묵채+모듬튀김+쿨피스', 3480: '떡볶이+모듬튀김+순대+어묵탕+쿨피스', 3481: '세트4번', 3482: '떡볶이+모듬튀김+순대+어묵탕+어묵채+쿨피스', 3483: '왕돈까스김밥', 3484: '왕새우김밥', 3485: '매운오뎅김밥', 3486: '매운불고기김밥', 3487: '매운오징어김밥', 3488: '매운오징어불고기김밥', 3489: '매운고추토핑추가', 3490: '즉석떡볶이', 3491: '매운국물떡볶이', 3492: '매운국물오뎅떡볶이', 3493: '바지락된장찌개', 3494: '국물떡볶이세트', 3495: '국물오뎅떡볶이세트', 3496: '고추잡채만두', 3497: '계란간장밥', 3498: '스파클링', 3499: '밀키스', 3500: '우동/김치우동', 3501: '치킨가스', 3502: '경양식돈가스', 3503: '소세지함박스테이크', 3504: '새우오일파스타', 3505: '불고기오일파스타', 3506: '등갈비파스타', 3507: '빠네안심파스타', 3508: '명란로제파스타', 3509: '라구파스타', 3510: '홍게상하이파스타', 3511: '참숯불돼지갈비', 3512: '매운라면', 3513: '뒷고기한근', 3514: '흑돼지대패', 3515: '고추장파절이대패', 3516: '간장파절이대패', 3517: '날계란', 3518: '볶음밥치즈', 3519: '숙성삼겹살', 3520: '대패해물삼합', 3521: '쭈꾸미+대패삼겹살', 3522: '쭈꾸미(300g)+대패삼겹살(400g)', 3523: '양념쭈꾸미', 3524: '냉면+왕만두', 3525: '짚회관냉면', 3526: '고기양파볶음밥', 3527: '고추다대기밥', 3528: '기본', 3529: '관자', 3530: '소갈비', 3531: '돌솥밥+갈비탕', 3532: '돌솥밥+불고기정식', 3533: '회냉면', 3534: '토종닭숯불구이', 3535: '냉면사리', 3536: '참치일반회', 3537: '참치훼밀리', 3538: '참치비지니스', 3539: '참치스페셜', 3540: '참치VIP', 3541: '회', 3542: '특물회', 3543: '황제물회', 3544: '전복갈낙전골', 3545: '돼지갈비찜', 3546: '갈낙탕', 3547: '쌀막걸리', 3548: '전복갈낙탕', 3549: '꼼장어수육', 3550: '꼼장어볶음', 3551: '복분자음', 3552: '뽕술', 3553: '민들레대포', 3554: '소주/맥주', 3555: '메기', 3556: '쏘가리탕', 3557: '은어튀김', 3558: '빙어튀김', 3559: '잡어탕', 3560: '은어회', 3561: '참게탕', 3562: '빙어회무침', 3563: '웨지감자', 3564: '칩카사바', 3565: '국물맵떡', 3566: '포테이토앤칩스(점보팩)', 3567: '칠리포테이토', 3568: '어묵깡', 3569: '양념떡꼬치', 3570: '크라운모둠튀김', 3571: '연골똥집튀김', 3572: '교자만두강정', 3573: '레블반반오리지날', 3574: '레허반반순살정육+안심', 3575: '시그니처세트', 3576: '시그니처순살세트', 3577: '신화오리지날치킨', 3578: '신화순살치킨', 3579: '바른치즈떡볶이', 3580: '감자납작당면', 3581: '바른튀김만두', 3582: '미니어묵바', 3583: '88불닭매콤탕', 3584: '가문어슬라이스', 3585: '덕장먹태', 3586: '목도리한치'}\n",
            "YAML 파일이 생성되었습니다.\n"
          ]
        }
      ]
    },
    {
      "cell_type": "markdown",
      "source": [
        "## 4. YOLO 모델로 학습"
      ],
      "metadata": {
        "id": "mGZqGa8i5AoI"
      }
    },
    {
      "cell_type": "code",
      "source": [
        "from ultralytics import YOLO\n",
        "\n",
        "model = YOLO(\"yolo11n.pt\", task='detect')"
      ],
      "metadata": {
        "id": "wuz7gFSr5Asi"
      },
      "execution_count": null,
      "outputs": []
    },
    {
      "cell_type": "code",
      "source": [
        "model.train(data=\"/content/dataset_structure.yaml\", epochs=1, imgsz=640)"
      ],
      "metadata": {
        "colab": {
          "base_uri": "https://localhost:8080/"
        },
        "id": "fWkEVIpi5AxZ",
        "outputId": "28a4e95a-951c-4c86-86f9-dcedd42fddb3"
      },
      "execution_count": null,
      "outputs": [
        {
          "output_type": "stream",
          "name": "stdout",
          "text": [
            "Ultralytics 8.3.49 🚀 Python-3.10.12 torch-2.5.1+cu121 CUDA:0 (Tesla T4, 15102MiB)\n",
            "\u001b[34m\u001b[1mengine/trainer: \u001b[0mtask=detect, mode=train, model=yolo11n.pt, data=/content/dataset_structure.yaml, epochs=1, time=None, patience=100, batch=16, imgsz=640, save=True, save_period=-1, cache=False, device=None, workers=8, project=None, name=train3, exist_ok=False, pretrained=True, optimizer=auto, verbose=True, seed=0, deterministic=True, single_cls=False, rect=False, cos_lr=False, close_mosaic=10, resume=False, amp=True, fraction=1.0, profile=False, freeze=None, multi_scale=False, overlap_mask=True, mask_ratio=4, dropout=0.0, val=True, split=val, save_json=False, save_hybrid=False, conf=None, iou=0.7, max_det=300, half=False, dnn=False, plots=True, source=None, vid_stride=1, stream_buffer=False, visualize=False, augment=False, agnostic_nms=False, classes=None, retina_masks=False, embed=None, show=False, save_frames=False, save_txt=False, save_conf=False, save_crop=False, show_labels=True, show_conf=True, show_boxes=True, line_width=None, format=torchscript, keras=False, optimize=False, int8=False, dynamic=False, simplify=True, opset=None, workspace=None, nms=False, lr0=0.01, lrf=0.01, momentum=0.937, weight_decay=0.0005, warmup_epochs=3.0, warmup_momentum=0.8, warmup_bias_lr=0.1, box=7.5, cls=0.5, dfl=1.5, pose=12.0, kobj=1.0, nbs=64, hsv_h=0.015, hsv_s=0.7, hsv_v=0.4, degrees=0.0, translate=0.1, scale=0.5, shear=0.0, perspective=0.0, flipud=0.0, fliplr=0.5, bgr=0.0, mosaic=1.0, mixup=0.0, copy_paste=0.0, copy_paste_mode=flip, auto_augment=randaugment, erasing=0.4, crop_fraction=1.0, cfg=None, tracker=botsort.yaml, save_dir=runs/detect/train3\n",
            "Overriding model.yaml nc=80 with nc=3587\n",
            "\n",
            "                   from  n    params  module                                       arguments                     \n",
            "  0                  -1  1       464  ultralytics.nn.modules.conv.Conv             [3, 16, 3, 2]                 \n",
            "  1                  -1  1      4672  ultralytics.nn.modules.conv.Conv             [16, 32, 3, 2]                \n",
            "  2                  -1  1      6640  ultralytics.nn.modules.block.C3k2            [32, 64, 1, False, 0.25]      \n",
            "  3                  -1  1     36992  ultralytics.nn.modules.conv.Conv             [64, 64, 3, 2]                \n",
            "  4                  -1  1     26080  ultralytics.nn.modules.block.C3k2            [64, 128, 1, False, 0.25]     \n",
            "  5                  -1  1    147712  ultralytics.nn.modules.conv.Conv             [128, 128, 3, 2]              \n",
            "  6                  -1  1     87040  ultralytics.nn.modules.block.C3k2            [128, 128, 1, True]           \n",
            "  7                  -1  1    295424  ultralytics.nn.modules.conv.Conv             [128, 256, 3, 2]              \n",
            "  8                  -1  1    346112  ultralytics.nn.modules.block.C3k2            [256, 256, 1, True]           \n",
            "  9                  -1  1    164608  ultralytics.nn.modules.block.SPPF            [256, 256, 5]                 \n",
            " 10                  -1  1    249728  ultralytics.nn.modules.block.C2PSA           [256, 256, 1]                 \n",
            " 11                  -1  1         0  torch.nn.modules.upsampling.Upsample         [None, 2, 'nearest']          \n",
            " 12             [-1, 6]  1         0  ultralytics.nn.modules.conv.Concat           [1]                           \n",
            " 13                  -1  1    111296  ultralytics.nn.modules.block.C3k2            [384, 128, 1, False]          \n",
            " 14                  -1  1         0  torch.nn.modules.upsampling.Upsample         [None, 2, 'nearest']          \n",
            " 15             [-1, 4]  1         0  ultralytics.nn.modules.conv.Concat           [1]                           \n",
            " 16                  -1  1     32096  ultralytics.nn.modules.block.C3k2            [256, 64, 1, False]           \n",
            " 17                  -1  1     36992  ultralytics.nn.modules.conv.Conv             [64, 64, 3, 2]                \n",
            " 18            [-1, 13]  1         0  ultralytics.nn.modules.conv.Concat           [1]                           \n",
            " 19                  -1  1     86720  ultralytics.nn.modules.block.C3k2            [192, 128, 1, False]          \n",
            " 20                  -1  1    147712  ultralytics.nn.modules.conv.Conv             [128, 128, 3, 2]              \n",
            " 21            [-1, 10]  1         0  ultralytics.nn.modules.conv.Concat           [1]                           \n",
            " 22                  -1  1    378880  ultralytics.nn.modules.block.C3k2            [384, 256, 1, True]           \n",
            " 23        [16, 19, 22]  1   1552993  ultralytics.nn.modules.head.Detect           [3587, [64, 128, 256]]        \n",
            "YOLO11n summary: 319 layers, 3,712,161 parameters, 3,712,145 gradients, 12.6 GFLOPs\n",
            "\n",
            "Transferred 448/499 items from pretrained weights\n",
            "\u001b[34m\u001b[1mTensorBoard: \u001b[0mStart with 'tensorboard --logdir runs/detect/train3', view at http://localhost:6006/\n",
            "Freezing layer 'model.23.dfl.conv.weight'\n",
            "\u001b[34m\u001b[1mAMP: \u001b[0mrunning Automatic Mixed Precision (AMP) checks...\n",
            "\u001b[34m\u001b[1mAMP: \u001b[0mchecks passed ✅\n"
          ]
        },
        {
          "output_type": "stream",
          "name": "stderr",
          "text": [
            "\u001b[34m\u001b[1mtrain: \u001b[0mScanning /content/yolo_dataset/labels/train... 342 images, 0 backgrounds, 24 corrupt: 100%|██████████| 365/365 [00:11<00:00, 31.91it/s]"
          ]
        },
        {
          "output_type": "stream",
          "name": "stdout",
          "text": [
            "\u001b[34m\u001b[1mtrain: \u001b[0mWARNING ⚠️ /content/yolo_dataset/images/train/BS_IF02_M0003_9002445_1-tf.jpg: ignoring corrupt image/label: division by zero\n",
            "\u001b[34m\u001b[1mtrain: \u001b[0mWARNING ⚠️ /content/yolo_dataset/images/train/BS_KF01_M0002_510820_1-tf.jpg: ignoring corrupt image/label: division by zero\n",
            "\u001b[34m\u001b[1mtrain: \u001b[0mWARNING ⚠️ /content/yolo_dataset/images/train/BS_KF01_M0002_580795_3-tf.jpg: corrupt JPEG restored and saved\n",
            "\u001b[34m\u001b[1mtrain: \u001b[0mWARNING ⚠️ /content/yolo_dataset/images/train/BS_KF04_M0002_480710_1-tf.jpg: ignoring corrupt image/label: division by zero\n",
            "\u001b[34m\u001b[1mtrain: \u001b[0mWARNING ⚠️ /content/yolo_dataset/images/train/BS_KF04_M0002_9003836_1-tf.jpg: ignoring corrupt image/label: division by zero\n",
            "\u001b[34m\u001b[1mtrain: \u001b[0mWARNING ⚠️ /content/yolo_dataset/images/train/BS_KF05_M0002_9001865_1-tf.jpg: ignoring corrupt image/label: division by zero\n",
            "\u001b[34m\u001b[1mtrain: \u001b[0mWARNING ⚠️ /content/yolo_dataset/images/train/SL_FF01_M0002_351197_1-tf.jpg: corrupt JPEG restored and saved\n",
            "\u001b[34m\u001b[1mtrain: \u001b[0mWARNING ⚠️ /content/yolo_dataset/images/train/SL_FF01_M0004_48786_1-tf.jpg: corrupt JPEG restored and saved\n",
            "\u001b[34m\u001b[1mtrain: \u001b[0mWARNING ⚠️ /content/yolo_dataset/images/train/SL_IF01_M0001_191620_1-tf.jpg: ignoring corrupt image/label: negative label values [-0.00032538]\n",
            "\u001b[34m\u001b[1mtrain: \u001b[0mWARNING ⚠️ /content/yolo_dataset/images/train/SL_IF02_M0001_16635_3-tf.jpg: ignoring corrupt image/label: division by zero\n",
            "\u001b[34m\u001b[1mtrain: \u001b[0mWARNING ⚠️ /content/yolo_dataset/images/train/SL_IF02_M0001_320924_2-tf.jpg: corrupt JPEG restored and saved\n",
            "\u001b[34m\u001b[1mtrain: \u001b[0mWARNING ⚠️ /content/yolo_dataset/images/train/SL_IF02_M0001_35519_1-tf.jpg: ignoring corrupt image/label: division by zero\n",
            "\u001b[34m\u001b[1mtrain: \u001b[0mWARNING ⚠️ /content/yolo_dataset/images/train/SL_IF02_M0002_352491_2-tf.jpg: ignoring corrupt image/label: division by zero\n",
            "\u001b[34m\u001b[1mtrain: \u001b[0mWARNING ⚠️ /content/yolo_dataset/images/train/SL_IF02_M0002_354381_1-tf.jpg: corrupt JPEG restored and saved\n",
            "\u001b[34m\u001b[1mtrain: \u001b[0mWARNING ⚠️ /content/yolo_dataset/images/train/SL_IF03_M0001_187041_2-tf.jpg: ignoring corrupt image/label: division by zero\n",
            "\u001b[34m\u001b[1mtrain: \u001b[0mWARNING ⚠️ /content/yolo_dataset/images/train/SL_IF03_M0001_296611_1-tf.jpg: corrupt JPEG restored and saved\n",
            "\u001b[34m\u001b[1mtrain: \u001b[0mWARNING ⚠️ /content/yolo_dataset/images/train/SL_IF03_M0001_317705_1-tf.jpg: corrupt JPEG restored and saved\n",
            "\u001b[34m\u001b[1mtrain: \u001b[0mWARNING ⚠️ /content/yolo_dataset/images/train/SL_IF03_M0002_228647_1-tf.jpg: ignoring corrupt image/label: division by zero\n",
            "\u001b[34m\u001b[1mtrain: \u001b[0mWARNING ⚠️ /content/yolo_dataset/images/train/SL_KF01_M0001_115017_3-tf.jpg: ignoring corrupt image/label: division by zero\n",
            "\u001b[34m\u001b[1mtrain: \u001b[0mWARNING ⚠️ /content/yolo_dataset/images/train/SL_KF01_M0001_316332_5-tf.jpg: corrupt JPEG restored and saved\n",
            "\u001b[34m\u001b[1mtrain: \u001b[0mWARNING ⚠️ /content/yolo_dataset/images/train/SL_KF01_M0001_319302_9-tf.jpg: corrupt JPEG restored and saved\n",
            "\u001b[34m\u001b[1mtrain: \u001b[0mWARNING ⚠️ /content/yolo_dataset/images/train/SL_KF01_M0002_17005_3-tf.jpg: corrupt JPEG restored and saved\n",
            "\u001b[34m\u001b[1mtrain: \u001b[0mWARNING ⚠️ /content/yolo_dataset/images/train/SL_KF01_M0002_285131_1-tf.jpg: corrupt JPEG restored and saved\n",
            "\u001b[34m\u001b[1mtrain: \u001b[0mWARNING ⚠️ /content/yolo_dataset/images/train/SL_KF01_M0002_333626_1-tf.jpg: corrupt JPEG restored and saved\n",
            "\u001b[34m\u001b[1mtrain: \u001b[0mWARNING ⚠️ /content/yolo_dataset/images/train/SL_KF01_M0004_355265_3-tf.jpg: corrupt JPEG restored and saved\n",
            "\u001b[34m\u001b[1mtrain: \u001b[0mWARNING ⚠️ /content/yolo_dataset/images/train/SL_KF02_M0001_355669_7-tf.jpg: corrupt JPEG restored and saved\n",
            "\u001b[34m\u001b[1mtrain: \u001b[0mWARNING ⚠️ /content/yolo_dataset/images/train/SL_KF02_M0002_193678_1-tf.jpg: ignoring corrupt image/label: division by zero\n",
            "\u001b[34m\u001b[1mtrain: \u001b[0mWARNING ⚠️ /content/yolo_dataset/images/train/SL_KF02_M0002_354433_1-tf.jpg: corrupt JPEG restored and saved\n",
            "\u001b[34m\u001b[1mtrain: \u001b[0mWARNING ⚠️ /content/yolo_dataset/images/train/SL_KF02_M0003_320733_1-tf.jpg: ignoring corrupt image/label: division by zero\n",
            "\u001b[34m\u001b[1mtrain: \u001b[0mWARNING ⚠️ /content/yolo_dataset/images/train/SL_KF02_M0004_190698_3-tf.jpg: ignoring corrupt image/label: division by zero\n",
            "\u001b[34m\u001b[1mtrain: \u001b[0mWARNING ⚠️ /content/yolo_dataset/images/train/SL_KF02_M0004_229665_5-tf.jpg: ignoring corrupt image/label: division by zero\n",
            "\u001b[34m\u001b[1mtrain: \u001b[0mWARNING ⚠️ /content/yolo_dataset/images/train/SL_KF02_M0004_316389_4-tf.jpg: corrupt JPEG restored and saved\n",
            "\u001b[34m\u001b[1mtrain: \u001b[0mWARNING ⚠️ /content/yolo_dataset/images/train/SL_KF03_M0001_113880_2-tf.jpg: ignoring corrupt image/label: division by zero\n",
            "\u001b[34m\u001b[1mtrain: \u001b[0mWARNING ⚠️ /content/yolo_dataset/images/train/SL_KF03_M0001_130466_3-tf.jpg: ignoring corrupt image/label: division by zero\n",
            "\u001b[34m\u001b[1mtrain: \u001b[0mWARNING ⚠️ /content/yolo_dataset/images/train/SL_KF03_M0001_130484_3-tf.jpg: corrupt JPEG restored and saved\n",
            "\u001b[34m\u001b[1mtrain: \u001b[0mWARNING ⚠️ /content/yolo_dataset/images/train/SL_KF03_M0001_228636_1-tf.jpg: ignoring corrupt image/label: division by zero\n",
            "\u001b[34m\u001b[1mtrain: \u001b[0mWARNING ⚠️ /content/yolo_dataset/images/train/SL_KF03_M0004_14679_3-tf.jpg: corrupt JPEG restored and saved\n",
            "\u001b[34m\u001b[1mtrain: \u001b[0mWARNING ⚠️ /content/yolo_dataset/images/train/SL_KF04_M0001_115373_2-tf.jpg: corrupt JPEG restored and saved\n",
            "\u001b[34m\u001b[1mtrain: \u001b[0mWARNING ⚠️ /content/yolo_dataset/images/train/SL_KF04_M0001_319745_1-tf.jpg: corrupt JPEG restored and saved\n",
            "\u001b[34m\u001b[1mtrain: \u001b[0mWARNING ⚠️ /content/yolo_dataset/images/train/SL_KF04_M0004_355234_5-tf.jpg: corrupt JPEG restored and saved\n",
            "\u001b[34m\u001b[1mtrain: \u001b[0mWARNING ⚠️ /content/yolo_dataset/images/train/SL_KF05_M0001_229805_7-tf.jpg: ignoring corrupt image/label: division by zero\n",
            "\u001b[34m\u001b[1mtrain: \u001b[0mWARNING ⚠️ /content/yolo_dataset/images/train/SL_KF05_M0002_355039_2-tf.jpg: ignoring corrupt image/label: division by zero\n",
            "\u001b[34m\u001b[1mtrain: \u001b[0mWARNING ⚠️ /content/yolo_dataset/images/train/SL_KF06_M0001_190072_9-tf.jpg: ignoring corrupt image/label: division by zero\n",
            "\u001b[34m\u001b[1mtrain: \u001b[0mWARNING ⚠️ /content/yolo_dataset/images/train/SL_KF06_M0001_226185_5-tf.jpg: ignoring corrupt image/label: division by zero\n",
            "\u001b[34m\u001b[1mtrain: \u001b[0mWARNING ⚠️ /content/yolo_dataset/images/train/SL_KF06_M0001_334866_5-tf.jpg: corrupt JPEG restored and saved\n",
            "\u001b[34m\u001b[1mtrain: \u001b[0mWARNING ⚠️ /content/yolo_dataset/images/train/SL_KF06_M0001_351681_4-tf.jpg: corrupt JPEG restored and saved\n",
            "\u001b[34m\u001b[1mtrain: \u001b[0mWARNING ⚠️ /content/yolo_dataset/images/train/SL_KF06_M0002_188838_1-tf.jpg: corrupt JPEG restored and saved\n",
            "\u001b[34m\u001b[1mtrain: \u001b[0mWARNING ⚠️ /content/yolo_dataset/images/train/SL_KF07_M0002_114565_2-tf.jpg: ignoring corrupt image/label: division by zero\n",
            "\u001b[34m\u001b[1mtrain: \u001b[0mNew cache created: /content/yolo_dataset/labels/train.cache\n"
          ]
        },
        {
          "output_type": "stream",
          "name": "stderr",
          "text": [
            "\n"
          ]
        },
        {
          "output_type": "stream",
          "name": "stdout",
          "text": [
            "\u001b[34m\u001b[1malbumentations: \u001b[0mBlur(p=0.01, blur_limit=(3, 7)), MedianBlur(p=0.01, blur_limit=(3, 7)), ToGray(p=0.01, num_output_channels=3, method='weighted_average'), CLAHE(p=0.01, clip_limit=(1.0, 4.0), tile_grid_size=(8, 8))\n"
          ]
        },
        {
          "output_type": "stream",
          "name": "stderr",
          "text": [
            "\u001b[34m\u001b[1mval: \u001b[0mScanning /content/yolo_dataset/labels/val... 43 images, 0 backgrounds, 4 corrupt: 100%|██████████| 47/47 [00:05<00:00,  8.08it/s]"
          ]
        },
        {
          "output_type": "stream",
          "name": "stdout",
          "text": [
            "\u001b[34m\u001b[1mval: \u001b[0mWARNING ⚠️ /content/yolo_dataset/images/val/JR_IF02_M0001_1578419_8-tf.jpg: ignoring corrupt image/label: division by zero\n",
            "\u001b[34m\u001b[1mval: \u001b[0mWARNING ⚠️ /content/yolo_dataset/images/val/JR_IF03_M0001_1501041_1-tf.jpg: corrupt JPEG restored and saved\n",
            "\u001b[34m\u001b[1mval: \u001b[0mWARNING ⚠️ /content/yolo_dataset/images/val/JR_IF03_M0002_1488015_1-tf.jpg: corrupt JPEG restored and saved\n",
            "\u001b[34m\u001b[1mval: \u001b[0mWARNING ⚠️ /content/yolo_dataset/images/val/JR_KF01_M0001_1535705_6-tf.jpg: ignoring corrupt image/label: division by zero\n",
            "\u001b[34m\u001b[1mval: \u001b[0mWARNING ⚠️ /content/yolo_dataset/images/val/JR_KF01_M0002_1505894_1-tf.jpg: corrupt JPEG restored and saved\n",
            "\u001b[34m\u001b[1mval: \u001b[0mWARNING ⚠️ /content/yolo_dataset/images/val/JR_KF01_M0002_1522183_1-tf.jpg: corrupt JPEG restored and saved\n",
            "\u001b[34m\u001b[1mval: \u001b[0mWARNING ⚠️ /content/yolo_dataset/images/val/JR_KF03_M0001_1539722_6-tf.jpg: corrupt JPEG restored and saved\n",
            "\u001b[34m\u001b[1mval: \u001b[0mWARNING ⚠️ /content/yolo_dataset/images/val/JR_KF03_M0001_1579396_4-tf.jpg: ignoring corrupt image/label: division by zero\n",
            "\u001b[34m\u001b[1mval: \u001b[0mWARNING ⚠️ /content/yolo_dataset/images/val/JR_KF05_M0002_1578737_1-tf.jpg: ignoring corrupt image/label: division by zero\n",
            "\u001b[34m\u001b[1mval: \u001b[0mWARNING ⚠️ /content/yolo_dataset/images/val/JR_KF06_M0001_9006726_3-tf.jpg: corrupt JPEG restored and saved\n",
            "\u001b[34m\u001b[1mval: \u001b[0mNew cache created: /content/yolo_dataset/labels/val.cache\n"
          ]
        },
        {
          "output_type": "stream",
          "name": "stderr",
          "text": [
            "\n"
          ]
        },
        {
          "output_type": "stream",
          "name": "stdout",
          "text": [
            "Plotting labels to runs/detect/train3/labels.jpg... \n",
            "\u001b[34m\u001b[1moptimizer:\u001b[0m 'optimizer=auto' found, ignoring 'lr0=0.01' and 'momentum=0.937' and determining best 'optimizer', 'lr0' and 'momentum' automatically... \n",
            "\u001b[34m\u001b[1moptimizer:\u001b[0m AdamW(lr=3e-06, momentum=0.9) with parameter groups 81 weight(decay=0.0), 88 weight(decay=0.0005), 87 bias(decay=0.0)\n",
            "\u001b[34m\u001b[1mTensorBoard: \u001b[0mmodel graph visualization added ✅\n",
            "Image sizes 640 train, 640 val\n",
            "Using 2 dataloader workers\n",
            "Logging results to \u001b[1mruns/detect/train3\u001b[0m\n",
            "Starting training for 1 epochs...\n",
            "\n",
            "      Epoch    GPU_mem   box_loss   cls_loss   dfl_loss  Instances       Size\n"
          ]
        },
        {
          "output_type": "stream",
          "name": "stderr",
          "text": [
            "        1/1      15.6G          0      89.03          0          0        640: 100%|██████████| 22/22 [00:42<00:00,  1.95s/it]\n",
            "                 Class     Images  Instances      Box(P          R      mAP50  mAP50-95):   0%|          | 0/2 [00:00<?, ?it/s]"
          ]
        },
        {
          "output_type": "stream",
          "name": "stdout",
          "text": [
            "WARNING: CUDA OutOfMemoryError in TaskAlignedAssigner, using CPU\n"
          ]
        }
      ]
    },
    {
      "cell_type": "code",
      "source": [],
      "metadata": {
        "id": "L3ZMIiJX5A8u"
      },
      "execution_count": null,
      "outputs": []
    },
    {
      "cell_type": "code",
      "source": [
        "# 모델 평가\n",
        "eval = model.val()  # 검증 결과 반환\n",
        "eval"
      ],
      "metadata": {
        "id": "YbBvABZ0JpA1"
      },
      "execution_count": null,
      "outputs": []
    },
    {
      "cell_type": "code",
      "source": [
        "# 추론 테스트\n",
        "result = model('/content/~.jpg')\n",
        "result"
      ],
      "metadata": {
        "id": "ZDfW6UTgJpKI"
      },
      "execution_count": null,
      "outputs": []
    },
    {
      "cell_type": "markdown",
      "source": [
        "### 5) 모델 저장"
      ],
      "metadata": {
        "id": "oVyd2dVfUGdO"
      }
    },
    {
      "cell_type": "code",
      "source": [
        "model.save(\"model.pt\")"
      ],
      "metadata": {
        "id": "267U3QzCUJqP"
      },
      "execution_count": null,
      "outputs": []
    },
    {
      "cell_type": "code",
      "source": [],
      "metadata": {
        "id": "hIytEUXHOitz"
      },
      "execution_count": null,
      "outputs": []
    }
  ]
}